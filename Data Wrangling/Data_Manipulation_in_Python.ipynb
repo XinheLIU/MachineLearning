{
  "nbformat": 4,
  "nbformat_minor": 0,
  "metadata": {
    "colab": {
      "name": "Data Manipulation in Python.ipynb",
      "version": "0.3.2",
      "provenance": [],
      "collapsed_sections": [
        "r3tIt1Zjsi2y",
        "4ZSQzjXBPWme",
        "fVZFfT125LdY",
        "SAAZ2d7CpUJO",
        "Z0FucuXLih-b"
      ],
      "toc_visible": true
    },
    "kernelspec": {
      "name": "python3",
      "display_name": "Python 3"
    }
  },
  "cells": [
    {
      "cell_type": "markdown",
      "metadata": {
        "id": "u_-7WJlBn3uN",
        "colab_type": "text"
      },
      "source": [
        "#Data Manipulation in Python"
      ]
    },
    {
      "cell_type": "markdown",
      "metadata": {
        "id": "96SKJkUhpNzR",
        "colab_type": "text"
      },
      "source": [
        "**Objectives**\n",
        "* Learn Colaboratory fundanmental operations\n",
        "* Learn and Review Python Basics\n",
        "* Learn Numpy Basics\n",
        "* Learn Pandas Basics"
      ]
    },
    {
      "cell_type": "markdown",
      "metadata": {
        "id": "r3tIt1Zjsi2y",
        "colab_type": "text"
      },
      "source": [
        "##Introduction to Colaboratory \n",
        "* Install Colaboratory (check *class doc*)\n",
        "* Install and import python packages\n",
        "* Load and Save data"
      ]
    },
    {
      "cell_type": "code",
      "metadata": {
        "id": "gb2OqLrDvSOB",
        "colab_type": "code",
        "cellView": "both",
        "colab": {}
      },
      "source": [
        "#@title import packages\n",
        "variable_name = \"\"\n",
        "import numpy as np\n",
        "import pandas as pd\n",
        "import matplotlib.pyplot as plt\n",
        "\n",
        "from __future__ import division # for python2, python 2 default integer division\n",
        "\n",
        "import warnings\n",
        "warnings.filterwarnings('ignore')"
      ],
      "execution_count": 0,
      "outputs": []
    },
    {
      "cell_type": "code",
      "metadata": {
        "id": "vzJufYKix58j",
        "colab_type": "code",
        "cellView": "both",
        "outputId": "eab74776-11b1-4092-b500-a6a1e2740d75",
        "colab": {
          "base_uri": "https://localhost:8080/",
          "height": 255
        }
      },
      "source": [
        "#@title install packages\n",
        "!pip install pandasql"
      ],
      "execution_count": 0,
      "outputs": [
        {
          "output_type": "stream",
          "text": [
            "Collecting pandasql\n",
            "  Downloading https://files.pythonhosted.org/packages/6b/c4/ee4096ffa2eeeca0c749b26f0371bd26aa5c8b611c43de99a4f86d3de0a7/pandasql-0.7.3.tar.gz\n",
            "Requirement already satisfied: numpy in /usr/local/lib/python3.6/dist-packages (from pandasql) (1.16.4)\n",
            "Requirement already satisfied: pandas in /usr/local/lib/python3.6/dist-packages (from pandasql) (0.24.2)\n",
            "Requirement already satisfied: sqlalchemy in /usr/local/lib/python3.6/dist-packages (from pandasql) (1.3.5)\n",
            "Requirement already satisfied: python-dateutil>=2.5.0 in /usr/local/lib/python3.6/dist-packages (from pandas->pandasql) (2.5.3)\n",
            "Requirement already satisfied: pytz>=2011k in /usr/local/lib/python3.6/dist-packages (from pandas->pandasql) (2018.9)\n",
            "Requirement already satisfied: six>=1.5 in /usr/local/lib/python3.6/dist-packages (from python-dateutil>=2.5.0->pandas->pandasql) (1.12.0)\n",
            "Building wheels for collected packages: pandasql\n",
            "  Building wheel for pandasql (setup.py) ... \u001b[?25l\u001b[?25hdone\n",
            "  Stored in directory: /root/.cache/pip/wheels/53/6c/18/b87a2e5fa8a82e9c026311de56210b8d1c01846e18a9607fc9\n",
            "Successfully built pandasql\n",
            "Installing collected packages: pandasql\n",
            "Successfully installed pandasql-0.7.3\n"
          ],
          "name": "stdout"
        }
      ]
    },
    {
      "cell_type": "markdown",
      "metadata": {
        "id": "NODlSrUwye-l",
        "colab_type": "text"
      },
      "source": [
        "## Python Basics"
      ]
    },
    {
      "cell_type": "markdown",
      "metadata": {
        "id": "zUuCltN003Sk",
        "colab_type": "text"
      },
      "source": [
        "#### Built-in Types\n",
        "\n"
      ]
    },
    {
      "cell_type": "markdown",
      "metadata": {
        "id": "4ZSQzjXBPWme",
        "colab_type": "text"
      },
      "source": [
        "##### Numeric Types"
      ]
    },
    {
      "cell_type": "code",
      "metadata": {
        "id": "eJ2X-QxL0zS2",
        "colab_type": "code",
        "outputId": "1f53dc5f-7a45-46db-db8c-ada7972b25c7",
        "colab": {
          "base_uri": "https://localhost:8080/",
          "height": 102
        }
      },
      "source": [
        "x = 2\n",
        "\n",
        "# Use type() to check the variable type\n",
        "print(type(x)) # class 'int'\n",
        "\n",
        "x = x ** 3\n",
        "print(x) # 4; exponential\n",
        "\n",
        "x += 1 # addiction\n",
        "print(x)\n",
        "\n",
        "y = 1.5\n",
        "print(type(y)) # class 'float'\n",
        "\n",
        "x += y\n",
        "print(type(x)) # class 'float'\n"
      ],
      "execution_count": 0,
      "outputs": [
        {
          "output_type": "stream",
          "text": [
            "<class 'int'>\n",
            "8\n",
            "9\n",
            "<class 'float'>\n",
            "<class 'float'>\n"
          ],
          "name": "stdout"
        }
      ]
    },
    {
      "cell_type": "markdown",
      "metadata": {
        "id": "z8Pu3j8v2XAz",
        "colab_type": "text"
      },
      "source": [
        "**Boolean**"
      ]
    },
    {
      "cell_type": "code",
      "metadata": {
        "id": "sFWtTc7v2jxS",
        "colab_type": "code",
        "outputId": "f9c5dbde-8372-487c-9ee9-f50b86381edb",
        "colab": {
          "base_uri": "https://localhost:8080/",
          "height": 119
        }
      },
      "source": [
        "t = True\n",
        "f = False\n",
        "\n",
        "print(type(t)) # class 'bool' \n",
        "print(t or f) # True\n",
        "print(t and f) # False \n",
        "print(not t) # False\n",
        "print(not f) # True\n",
        "\n",
        "\n",
        "print(1 or f) # (Advanced, just know it is enough)\n"
      ],
      "execution_count": 0,
      "outputs": [
        {
          "output_type": "stream",
          "text": [
            "<class 'bool'>\n",
            "True\n",
            "False\n",
            "False\n",
            "True\n",
            "1\n"
          ],
          "name": "stdout"
        }
      ]
    },
    {
      "cell_type": "markdown",
      "metadata": {
        "id": "r1HPK_4D3dRz",
        "colab_type": "text"
      },
      "source": [
        "**String**\n",
        "\n",
        "Strings are immutable type"
      ]
    },
    {
      "cell_type": "code",
      "metadata": {
        "id": "WG9dlTJK3ezP",
        "colab_type": "code",
        "outputId": "14788b6a-d624-4f5d-fb8d-73a65ad065aa",
        "colab": {
          "base_uri": "https://localhost:8080/",
          "height": 187
        }
      },
      "source": [
        "s1 = 'single quote' # use single quotes\n",
        "print(type(s1)) # class 'str'\n",
        "\n",
        "s2= \"double quote\" # use double quotes \n",
        "print(type(s2)) # class 'str'\n",
        "\n",
        "x = 100\n",
        "s3 = s1 + ' huozhe ' + s2 + str(x) # string concatenation\n",
        "print(s3)\n",
        "\n",
        "print('TEXT: ' + s3)\n",
        "print('Caplitalize the string: ' + s3.capitalize()) # Caplitalize the string \n",
        "print('Uppercase the string: ' + s3.upper()) # Uppercase the string\n",
        "print('\\'o\\' occurrences: ' + str(s3.count('o'))) # Count the occurrences of a character\n",
        "print('first \\'te\\' index: ' + str(s3.index('te'))) # The lowest index of the occurrence \n",
        "print(s3[0]) # string indexing\n",
        "\n",
        "s4 = '{0} huozhe {1} {2}'.format(s1, s2, 100) # (Advanced)\n",
        "print(s4)"
      ],
      "execution_count": 0,
      "outputs": [
        {
          "output_type": "stream",
          "text": [
            "<class 'str'>\n",
            "<class 'str'>\n",
            "single quote huozhe double quote100\n",
            "TEXT: single quote huozhe double quote100\n",
            "Caplitalize the string: Single quote huozhe double quote100\n",
            "Uppercase the string: SINGLE QUOTE HUOZHE DOUBLE QUOTE100\n",
            "'o' occurrences: 4\n",
            "first 'te' index: 10\n",
            "s\n",
            "single quote huozhe double quote 100\n"
          ],
          "name": "stdout"
        }
      ]
    },
    {
      "cell_type": "code",
      "metadata": {
        "id": "GmL2VmQ1wXSU",
        "colab_type": "code",
        "outputId": "a9365053-41e1-442f-a6f7-d6db4b510e4b",
        "colab": {
          "base_uri": "https://localhost:8080/",
          "height": 85
        }
      },
      "source": [
        "# (Advanced)Tripe Quotes\n",
        "s = '''\n",
        "You can specify multi-line string.\n",
        "This is an example.\n",
        "'''\n",
        "\n",
        "print(s)"
      ],
      "execution_count": 0,
      "outputs": [
        {
          "output_type": "stream",
          "text": [
            "\n",
            "You can specify multi-line string.\n",
            "This is an example.\n",
            "\n"
          ],
          "name": "stdout"
        }
      ]
    },
    {
      "cell_type": "markdown",
      "metadata": {
        "id": "fVZFfT125LdY",
        "colab_type": "text"
      },
      "source": [
        "##### Lists\n",
        "\n",
        "Lists are mutable type\n"
      ]
    },
    {
      "cell_type": "code",
      "metadata": {
        "id": "5HaYG0YV0Ll_",
        "colab_type": "code",
        "outputId": "2f688bca-5c59-45f6-e9ba-a0a3e6574239",
        "colab": {
          "base_uri": "https://localhost:8080/",
          "height": 68
        }
      },
      "source": [
        "lst1 = [] # initialize an empty list\n",
        "print(type(lst1)) # class 'List'\n",
        "\n",
        "lst2 = [1, 2, 3, 4] # create a list with same data type values\n",
        "print(lst2)\n",
        "\n",
        "lst3 = ['one', 2, 'three', 4] # create a list with different data type values\n",
        "print(lst3)\n"
      ],
      "execution_count": 0,
      "outputs": [
        {
          "output_type": "stream",
          "text": [
            "<class 'list'>\n",
            "[1, 2, 3, 4]\n",
            "['one', 2, 'three', 4]\n"
          ],
          "name": "stdout"
        }
      ]
    },
    {
      "cell_type": "code",
      "metadata": {
        "id": "IUdkO-VZ3bq-",
        "colab_type": "code",
        "outputId": "719f1301-1752-4069-86e1-d7fdce4dddfb",
        "colab": {
          "base_uri": "https://localhost:8080/",
          "height": 68
        }
      },
      "source": [
        "lst2.append(5) # append a new element to end of the list\n",
        "print(lst2)\n",
        "\n",
        "lst2.pop(3) # remove the last element fo the list\n",
        "print(lst2)\n",
        "\n",
        "lst2[2] = 100 # list is mutable\n",
        "print(lst2)"
      ],
      "execution_count": 0,
      "outputs": [
        {
          "output_type": "stream",
          "text": [
            "[1, 2, 3, 4, 5]\n",
            "[1, 2, 3, 5]\n",
            "[1, 2, 100, 5]\n"
          ],
          "name": "stdout"
        }
      ]
    },
    {
      "cell_type": "code",
      "metadata": {
        "id": "QjQZR_ST5hN_",
        "colab_type": "code",
        "outputId": "501149fc-fc2c-4cd0-d986-940f43aad1a5",
        "colab": {
          "base_uri": "https://localhost:8080/",
          "height": 85
        }
      },
      "source": [
        "print(lst2[0]) # list indexing\n",
        "print(lst2[-1]) # negative index, access from end of list\n",
        "print(len(lst2)) # the length of list\n",
        "print(lst2 + lst3) # list concatenation"
      ],
      "execution_count": 0,
      "outputs": [
        {
          "output_type": "stream",
          "text": [
            "1\n",
            "5\n",
            "4\n",
            "[1, 2, 100, 5, 'one', 2, 'three', 4]\n"
          ],
          "name": "stdout"
        }
      ]
    },
    {
      "cell_type": "code",
      "metadata": {
        "id": "4T4xLKXtLv2T",
        "colab_type": "code",
        "outputId": "85afea67-22dd-46a1-d4a8-99ac8e38ee32",
        "colab": {
          "base_uri": "https://localhost:8080/",
          "height": 289
        }
      },
      "source": [
        "# (Advanced)lst3 = lst2[:] \n",
        "# By using this way, lst3 is a deep copy of lst2\n",
        "# When changing one of the value of lst3, the lst2 will not be changed\n",
        "lst3 = lst2[:] # copy\n",
        "lst3[0] = 'lst3'\n",
        "\n",
        "lst4 = lst2.copy() # copy\n",
        "lst4[0] = 'lst4'\n",
        "\n",
        "lst5 = lst2 # reference\n",
        "lst5[0] = 'lst2'\n",
        "\n",
        "\n",
        "print(lst3)\n",
        "print(lst2)\n",
        "print(lst4)\n",
        "print('\\n')\n",
        "\n",
        "lst2[0] = ['this', 'is', 'nested', 'list'] # put a list into a list\n",
        "print(lst2) # original list\n",
        "print('\\n')\n",
        "\n",
        "# (Advanced+) shallow copy vs deep copy\n",
        "lst6 = lst2[:]\n",
        "lst6[0][2] = 'magic'\n",
        "print('Shallow Copy original list: ')\n",
        "print(lst2) # original list\n",
        "print(lst6)\n",
        "print('\\n')\n",
        "\n",
        "import copy\n",
        "lst2[0] = ['this', 'is', 'nested', 'list'] # put a list into a list\n",
        "lst6 = copy.deepcopy(lst2)\n",
        "lst6[0][2] = 'magic'\n",
        "print('Deep Copy original copy:')\n",
        "print('lst2: ' + str(lst2)) # original list\n",
        "print('lst6: ' + str(lst6)) "
      ],
      "execution_count": 0,
      "outputs": [
        {
          "output_type": "stream",
          "text": [
            "['lst3', 2, 100, 5]\n",
            "['lst2', 2, 100, 5]\n",
            "['lst4', 2, 100, 5]\n",
            "\n",
            "\n",
            "[['this', 'is', 'nested', 'list'], 2, 100, 5]\n",
            "\n",
            "\n",
            "Shallow Copy original list: \n",
            "[['this', 'is', 'magic', 'list'], 2, 100, 5]\n",
            "[['this', 'is', 'magic', 'list'], 2, 100, 5]\n",
            "\n",
            "\n",
            "Deep Copy original copy:\n",
            "lst2: [['this', 'is', 'nested', 'list'], 2, 100, 5]\n",
            "lst6: [['this', 'is', 'magic', 'list'], 2, 100, 5]\n"
          ],
          "name": "stdout"
        }
      ]
    },
    {
      "cell_type": "code",
      "metadata": {
        "id": "Ml2j42Th-jJL",
        "colab_type": "code",
        "outputId": "bf4594f0-7c53-48e9-a856-9294d4acd206",
        "colab": {
          "base_uri": "https://localhost:8080/",
          "height": 34
        }
      },
      "source": [
        "a = [1, 22]\n",
        "b = a[:]\n",
        "b[0] = 3\n",
        "\n",
        "print(a)"
      ],
      "execution_count": 0,
      "outputs": [
        {
          "output_type": "stream",
          "text": [
            "[1, 22]\n"
          ],
          "name": "stdout"
        }
      ]
    },
    {
      "cell_type": "markdown",
      "metadata": {
        "id": "s4aKfipipd4g",
        "colab_type": "text"
      },
      "source": [
        "**Slicing**"
      ]
    },
    {
      "cell_type": "code",
      "metadata": {
        "id": "VrVGJGgC58wC",
        "colab_type": "code",
        "outputId": "cf283966-4b43-4078-da74-a36a72c2ae4e",
        "colab": {
          "base_uri": "https://localhost:8080/",
          "height": 221
        }
      },
      "source": [
        "lst = range(6) # create an list of numbers using built-in function range\n",
        "print(type(lst)) # class 'range'\n",
        "\n",
        "lst = list(lst) # change to list\n",
        "print(type(lst)) # class 'list'\n",
        "\n",
        "# [start(inclusive) : end(exclusive) : step]\n",
        "print(lst) # [0, 1, 2, 3, 4, 5]\n",
        "print(lst[0:6]) # index from 0 to 5, [0, 1, 2, 3, 4, 5]\n",
        "print(lst[1:]) # index from 1 to the end, [1, 2, 3, 4, 5]\n",
        "print(lst[:4]) # index from start to 4, [0, 1, 2, 3]\n",
        "print(lst[:]) # the whole list, [0, 1, 2, 3, 4, 5]\n",
        "print(lst[:-1]) # negative index slicing, [0, 1, 2, 3, 4]\n",
        "print(lst[-1:]) # negative index slicing, [5]\n",
        "print(lst[::2]) # change index step to 2, [0, 2, 4]\n",
        "print(lst[::-1]) # reverse order, [5, 4, 3, 2, 1, 0], common usage\n",
        "\n",
        "lst[2:4] = [3, 2] # modify the values by slicing\n",
        "print(lst) # [0, 1, 3, 2, 4, 5]"
      ],
      "execution_count": 0,
      "outputs": [
        {
          "output_type": "stream",
          "text": [
            "<class 'range'>\n",
            "<class 'list'>\n",
            "[0, 1, 2, 3, 4, 5]\n",
            "[0, 1, 2, 3, 4, 5]\n",
            "[1, 2, 3, 4, 5]\n",
            "[0, 1, 2, 3]\n",
            "[0, 1, 2, 3, 4, 5]\n",
            "[0, 1, 2, 3, 4]\n",
            "[5]\n",
            "[0, 2, 4]\n",
            "[5, 4, 3, 2, 1, 0]\n",
            "[0, 1, 3, 2, 4, 5]\n"
          ],
          "name": "stdout"
        }
      ]
    },
    {
      "cell_type": "code",
      "metadata": {
        "id": "v-7Q4Irwu0WH",
        "colab_type": "code",
        "outputId": "3ae1d3a9-70c1-4e9a-d837-1789e3a9de46",
        "colab": {
          "base_uri": "https://localhost:8080/",
          "height": 51
        }
      },
      "source": [
        "print(lst)\n",
        "print(lst[0:6:2]) "
      ],
      "execution_count": 0,
      "outputs": [
        {
          "output_type": "stream",
          "text": [
            "[0, 1, 3, 2, 4, 5]\n",
            "[0, 3, 4]\n"
          ],
          "name": "stdout"
        }
      ]
    },
    {
      "cell_type": "code",
      "metadata": {
        "id": "AB4kHoZ5-Quo",
        "colab_type": "code",
        "outputId": "a0ff947f-de59-49b0-b602-b4a065e85193",
        "colab": {
          "base_uri": "https://localhost:8080/",
          "height": 68
        }
      },
      "source": [
        "ss = 'Hello World!' # initialize a string\n",
        "print(ss)\n",
        "\n",
        "print(ss[:]) # the whole list\n",
        "print(ss[1:3]) # index from 1 to 2"
      ],
      "execution_count": 0,
      "outputs": [
        {
          "output_type": "stream",
          "text": [
            "Hello World!\n",
            "Hello World!\n",
            "el\n"
          ],
          "name": "stdout"
        }
      ]
    },
    {
      "cell_type": "markdown",
      "metadata": {
        "id": "jZTphP3Spw9-",
        "colab_type": "text"
      },
      "source": [
        "**Looping**"
      ]
    },
    {
      "cell_type": "code",
      "metadata": {
        "id": "ZSpQ3zyL-OO6",
        "colab_type": "code",
        "outputId": "7f8835d6-1569-40d1-a5c5-1bc837558178",
        "colab": {
          "base_uri": "https://localhost:8080/",
          "height": 85
        }
      },
      "source": [
        "# basic loop\n",
        "skills = ['ML', 'Stat', 'Coding', 'Business']\n",
        "for skill in skills:\n",
        "  print(skill)"
      ],
      "execution_count": 0,
      "outputs": [
        {
          "output_type": "stream",
          "text": [
            "ML\n",
            "Stat\n",
            "Coding\n",
            "Business\n"
          ],
          "name": "stdout"
        }
      ]
    },
    {
      "cell_type": "code",
      "metadata": {
        "id": "Yug35Gu5CG93",
        "colab_type": "code",
        "outputId": "c8b4b2c9-44ff-403c-d4dc-38cf2b0889e7",
        "colab": {
          "base_uri": "https://localhost:8080/",
          "height": 85
        }
      },
      "source": [
        "# enumerate, bind index with list element\n",
        "# [(0, 'ML'), (1, 'Stat')..]\n",
        "skills = ['ML', 'Stat', 'Coding', 'Business']\n",
        "for idx, skill in enumerate(skills):\n",
        "  print('{idx_} : {skill_}'.format(skill_ = skill, idx_ = idx))"
      ],
      "execution_count": 0,
      "outputs": [
        {
          "output_type": "stream",
          "text": [
            "0 : ML\n",
            "1 : Stat\n",
            "2 : Coding\n",
            "3 : Business\n"
          ],
          "name": "stdout"
        }
      ]
    },
    {
      "cell_type": "code",
      "metadata": {
        "id": "z5wViKNMCww7",
        "colab_type": "code",
        "outputId": "85cb2db0-9dce-4d04-976f-3d0b8aaa26fe",
        "colab": {
          "base_uri": "https://localhost:8080/",
          "height": 68
        }
      },
      "source": [
        "# list comprehension\n",
        "nums = list(range(6))\n",
        "print(nums)\n",
        "\n",
        "lst = [x ** 2 for x in nums]\n",
        "print(lst)\n",
        "\n",
        "# same as list comprehension\n",
        "lst_temp = []\n",
        "for x in nums:\n",
        "  lst_temp.append(x ** 2)\n",
        "print(lst_temp)"
      ],
      "execution_count": 0,
      "outputs": [
        {
          "output_type": "stream",
          "text": [
            "[0, 1, 2, 3, 4, 5]\n",
            "[0, 1, 4, 9, 16, 25]\n",
            "[0, 1, 4, 9, 16, 25]\n"
          ],
          "name": "stdout"
        }
      ]
    },
    {
      "cell_type": "markdown",
      "metadata": {
        "id": "SAAZ2d7CpUJO",
        "colab_type": "text"
      },
      "source": [
        "##### Dictionary\n",
        "\n",
        "{key: value} \n",
        "\n",
        "key-value pairs"
      ]
    },
    {
      "cell_type": "code",
      "metadata": {
        "id": "Ugbee1XSHcrQ",
        "colab_type": "code",
        "outputId": "b2970c34-73f7-46f9-cf43-03ef50889ee5",
        "colab": {
          "base_uri": "https://localhost:8080/",
          "height": 136
        }
      },
      "source": [
        "skills = ['ML', 'Stat', 'Coding', 'Business']\n",
        "scores = [90, 80, 1, 59]\n",
        "\n",
        "print(scores[skills.index('Coding')])\n",
        "\n",
        "score_dict = {'ML': 90, 'Stat': 80, 'Coding': 1, 'Business': 59} # create a dictionary\n",
        "print(score_dict['ML']) # get ML score\n",
        "print('Stat' in score_dict) # check if 'Stat' in the dictionary\n",
        "\n",
        "score_dict['Spark'] = 70 # Add a new key-value pair to the dictionary\n",
        "print(score_dict['Spark'])\n",
        "\n",
        "print(\"current score: %d\" % score_dict['Coding'])\n",
        "score_dict['Coding'] = 100 # Modify the existing value in the dictionary\n",
        "print(\"afterwards: \" + str(score_dict['Coding']))\n",
        "\n",
        "score_dict.pop('Spark')"
      ],
      "execution_count": 0,
      "outputs": [
        {
          "output_type": "stream",
          "text": [
            "1\n",
            "90\n",
            "True\n",
            "70\n",
            "current score: 1\n",
            "afterwards: 100\n"
          ],
          "name": "stdout"
        },
        {
          "output_type": "execute_result",
          "data": {
            "text/plain": [
              "70"
            ]
          },
          "metadata": {
            "tags": []
          },
          "execution_count": 18
        }
      ]
    },
    {
      "cell_type": "code",
      "metadata": {
        "id": "-iWEzW5EO4X1",
        "colab_type": "code",
        "outputId": "944173eb-81b2-4504-d79c-7204b72b3ef2",
        "colab": {
          "base_uri": "https://localhost:8080/",
          "height": 51
        }
      },
      "source": [
        "# dictionary comprehension\n",
        "num_dict={x: x**2 if x % 2 == 0 else x for x in range(6)} # create dictionary\n",
        "\n",
        "# for x in range(6):\n",
        "#   if x%2 == 0:\n",
        "#     x ** 2\n",
        "#   else:\n",
        "#     x\n",
        "\n",
        "print(num_dict)\n",
        "print(num_dict[4])"
      ],
      "execution_count": 0,
      "outputs": [
        {
          "output_type": "stream",
          "text": [
            "{0: 0, 1: 1, 2: 4, 3: 3, 4: 16, 5: 5}\n",
            "16\n"
          ],
          "name": "stdout"
        }
      ]
    },
    {
      "cell_type": "code",
      "metadata": {
        "id": "HOIo9N4QR3Lr",
        "colab_type": "code",
        "outputId": "9df25873-6a7f-4c84-936b-fb67a514a89f",
        "colab": {
          "base_uri": "https://localhost:8080/",
          "height": 85
        }
      },
      "source": [
        "# loop over dictionary\n",
        "for skill in score_dict.values():\n",
        "  print(skill)\n",
        "  \n",
        "#   score = score_dict[skill]\n",
        "#   print(\"{} : {}\".format(skill, score))"
      ],
      "execution_count": 0,
      "outputs": [
        {
          "output_type": "stream",
          "text": [
            "90\n",
            "80\n",
            "100\n",
            "59\n"
          ],
          "name": "stdout"
        }
      ]
    },
    {
      "cell_type": "markdown",
      "metadata": {
        "id": "eqk3BHjRSbU1",
        "colab_type": "text"
      },
      "source": [
        "**Set**\n",
        "\n",
        "A set is an unordered collection of *distinct* elements. "
      ]
    },
    {
      "cell_type": "code",
      "metadata": {
        "id": "oK4rUVUMUZGe",
        "colab_type": "code",
        "outputId": "8fee9347-00bb-460f-c64d-5010269519bb",
        "colab": {
          "base_uri": "https://localhost:8080/",
          "height": 187
        }
      },
      "source": [
        "skills = {'ML', 'Stat', 'Coding', 'Business'}\n",
        "skills_list = ['ML', 'Stat', 'Coding', 'Business']\n",
        "\n",
        "\n",
        "\n",
        "print('Business' in skills) # check if an element is in a set\n",
        "print('Spark' in skills) # False\n",
        "\n",
        "skills.add('Spark') # add an element\n",
        "print(skills)\n",
        "skills.remove('Spark') # remove an element\n",
        "print(skills)\n",
        "\n",
        "# loop over a set\n",
        "for idx, skill in enumerate(skills):\n",
        "  print(f\"{skill} : {idx}\")\n",
        "\n",
        "# set comprehension\n",
        "nums = {num for num in range(6)}\n",
        "print(type(nums)) # class 'set'\n",
        "\n",
        "print(skills)"
      ],
      "execution_count": 0,
      "outputs": [
        {
          "output_type": "stream",
          "text": [
            "True\n",
            "False\n",
            "{'Spark', 'Coding', 'Stat', 'ML', 'Business'}\n",
            "{'Coding', 'Stat', 'ML', 'Business'}\n",
            "Coding : 0\n",
            "Stat : 1\n",
            "ML : 2\n",
            "Business : 3\n",
            "<class 'set'>\n",
            "{'Coding', 'Stat', 'ML', 'Business'}\n"
          ],
          "name": "stdout"
        }
      ]
    },
    {
      "cell_type": "markdown",
      "metadata": {
        "id": "AdJn4-B9Sg29",
        "colab_type": "text"
      },
      "source": [
        "**Tuple**\n",
        "\n",
        "A tuple is an (immutable) ordered list of values. A tuple is in many ways similar to a list; one of the most important differences is that tuples can be used as keys in dictionaries and as elements of sets, while lists cannot."
      ]
    },
    {
      "cell_type": "code",
      "metadata": {
        "id": "wKb15o_EgGew",
        "colab_type": "code",
        "outputId": "725884d9-08e5-44e6-a87b-35769586db32",
        "colab": {
          "base_uri": "https://localhost:8080/",
          "height": 51
        }
      },
      "source": [
        "t = (21, 42) # create a tuple\n",
        "print(type(t))\n",
        "\n",
        "skills = ['ML', 'Stat', 'Coding', 'Business']\n",
        "t_dict = {('Laidata', idx) : skill for idx, skill in enumerate(skills)} # create a dictionary with tuple keys\n",
        "print(t_dict)\n"
      ],
      "execution_count": 0,
      "outputs": [
        {
          "output_type": "stream",
          "text": [
            "<class 'tuple'>\n",
            "{('Laidata', 0): 'ML', ('Laidata', 1): 'Stat', ('Laidata', 2): 'Coding', ('Laidata', 3): 'Business'}\n"
          ],
          "name": "stdout"
        }
      ]
    },
    {
      "cell_type": "markdown",
      "metadata": {
        "id": "lz14OcSJhpCK",
        "colab_type": "text"
      },
      "source": [
        "##Numpy\n",
        "\n",
        "NumPy is the fundamental package for scientific computing in Python. It is a Python library that provides a multidimensional array object, various derived objects (such as masked arrays and matrices), and an assortment of routines for fast operations on arrays.\n",
        "\n",
        "At the core of the NumPy package, is the ndarray object. This encapsulates n-dimensional arrays of homogeneous data types, with many operations being performed in compiled code for performance. \n"
      ]
    },
    {
      "cell_type": "markdown",
      "metadata": {
        "id": "vMQbELzw-Z9u",
        "colab_type": "text"
      },
      "source": [
        "#### Arrays"
      ]
    },
    {
      "cell_type": "code",
      "metadata": {
        "id": "Op4nNL_B-efZ",
        "colab_type": "code",
        "outputId": "61c7aae7-2a3f-4b38-eeab-61bc18e90e57",
        "colab": {
          "base_uri": "https://localhost:8080/",
          "height": 170
        }
      },
      "source": [
        "lst = [[1, 2, 3], [4, 5, 6]] # 2x3\n",
        "a = np.array(lst) # create array from lists\n",
        "print(type(a)) # class 'numpy.ndarray'\n",
        "print(a)\n",
        "print(a[0]) # first row\n",
        "print(a[0][1]) # first row, second column\n",
        "print(a.shape) # 2 x 3\n",
        "print(a.ndim) # 2 dimensions\n",
        "print(a.dtype) # data type of the elements of array\n",
        "print(a.size) # total number of elements in the matrix\n"
      ],
      "execution_count": 0,
      "outputs": [
        {
          "output_type": "stream",
          "text": [
            "<class 'numpy.ndarray'>\n",
            "[[1 2 3]\n",
            " [4 5 6]]\n",
            "[1 2 3]\n",
            "2\n",
            "(2, 3)\n",
            "2\n",
            "int64\n",
            "6\n"
          ],
          "name": "stdout"
        }
      ]
    },
    {
      "cell_type": "code",
      "metadata": {
        "id": "9ryDCfxSFdEp",
        "colab_type": "code",
        "outputId": "47c04733-ffaf-49de-c584-f7e7e69551d2",
        "colab": {
          "base_uri": "https://localhost:8080/",
          "height": 340
        }
      },
      "source": [
        "b = np.arange(0, 10, 2, dtype='float') # create 1d array, [start, stop)\n",
        "print(type(b)) # class 'numpy.ndarray'\n",
        "print(b)\n",
        "print(b.shape)\n",
        "\n",
        "c = np.linspace(1.5, 2.5, 9) # create 1d array with float, [start, stop]\n",
        "print(type(c)) # class 'numpy.ndarray'\n",
        "print(c)\n",
        "print(c.shape)\n",
        "\n",
        "d = np.zeros((2, 3)) # all zeros\n",
        "print(type(d)) # class 'numpy.ndarray'\n",
        "print(d)\n",
        "\n",
        "e = np.ones((2, 3)) # all ones\n",
        "print(type(e)) # class 'numpy.ndarray'\n",
        "print(e)\n",
        "\n",
        "f = np.full((2, 3), 9) # constant matrix\n",
        "print(type(f)) # class 'numpy.ndarray'\n",
        "print(f)\n",
        "\n",
        "g = np.eye(3) # 3 x 3 identity matrix\n",
        "print(type(g)) # class 'numpy.ndarray'\n",
        "print(g)"
      ],
      "execution_count": 0,
      "outputs": [
        {
          "output_type": "stream",
          "text": [
            "<class 'numpy.ndarray'>\n",
            "[0. 2. 4. 6. 8.]\n",
            "(5,)\n",
            "<class 'numpy.ndarray'>\n",
            "[1.5   1.625 1.75  1.875 2.    2.125 2.25  2.375 2.5  ]\n",
            "(9,)\n",
            "<class 'numpy.ndarray'>\n",
            "[[0. 0. 0.]\n",
            " [0. 0. 0.]]\n",
            "<class 'numpy.ndarray'>\n",
            "[[1. 1. 1.]\n",
            " [1. 1. 1.]]\n",
            "<class 'numpy.ndarray'>\n",
            "[[9 9 9]\n",
            " [9 9 9]]\n",
            "<class 'numpy.ndarray'>\n",
            "[[1. 0. 0.]\n",
            " [0. 1. 0.]\n",
            " [0. 0. 1.]]\n"
          ],
          "name": "stdout"
        }
      ]
    },
    {
      "cell_type": "code",
      "metadata": {
        "id": "alXll15QFhZj",
        "colab_type": "code",
        "outputId": "44b63b2c-57b2-476a-9396-9cbdbd492d30",
        "colab": {
          "base_uri": "https://localhost:8080/",
          "height": 459
        }
      },
      "source": [
        "h = b.reshape(5, 1)\n",
        "print(h.shape)\n",
        "\n",
        "i = c.reshape(-1, 1)\n",
        "print(i)\n",
        "print(i.shape)\n",
        "\n",
        "j = d.reshape((2, 3, 1))\n",
        "print(j)\n",
        "print(j.shape)\n",
        "\n",
        "# (Advanced)show all the values\n",
        "# np.set_printoptions(threshold = np.nan) \n",
        "print(np.arange(10000).reshape((100, 100)))\n"
      ],
      "execution_count": 0,
      "outputs": [
        {
          "output_type": "stream",
          "text": [
            "(5, 1)\n",
            "[[1.5  ]\n",
            " [1.625]\n",
            " [1.75 ]\n",
            " [1.875]\n",
            " [2.   ]\n",
            " [2.125]\n",
            " [2.25 ]\n",
            " [2.375]\n",
            " [2.5  ]]\n",
            "(9, 1)\n",
            "[[[0.]\n",
            "  [0.]\n",
            "  [0.]]\n",
            "\n",
            " [[0.]\n",
            "  [0.]\n",
            "  [0.]]]\n",
            "(2, 3, 1)\n",
            "[[   0    1    2 ...   97   98   99]\n",
            " [ 100  101  102 ...  197  198  199]\n",
            " [ 200  201  202 ...  297  298  299]\n",
            " ...\n",
            " [9700 9701 9702 ... 9797 9798 9799]\n",
            " [9800 9801 9802 ... 9897 9898 9899]\n",
            " [9900 9901 9902 ... 9997 9998 9999]]\n"
          ],
          "name": "stdout"
        }
      ]
    },
    {
      "cell_type": "markdown",
      "metadata": {
        "id": "pAkR5CmFMBQJ",
        "colab_type": "text"
      },
      "source": [
        "**Indexing and Slicing**"
      ]
    },
    {
      "cell_type": "code",
      "metadata": {
        "id": "OH23HeknMHZF",
        "colab_type": "code",
        "outputId": "fdc2b0f0-29d5-4475-88fc-ace3d0679c2d",
        "colab": {
          "base_uri": "https://localhost:8080/",
          "height": 102
        }
      },
      "source": [
        "a = np.array([[1,2,3,4], [5,6,7,8], [9,10,11,12]])\n",
        "\n",
        "# Use slicing to pull out the subarray consisting of the first 2 rows\n",
        "# and columns 1 and 2; b is the following array of shape (2, 2):\n",
        "# [[2 3]\n",
        "#  [6 7]]\n",
        "b = a[:2, 1:3]\n",
        "print(b)\n",
        "print(a[1]) # access a row\n",
        "print(a[:, 1]) # access a col\n",
        "print(a[1, 1]) # access single value"
      ],
      "execution_count": 0,
      "outputs": [
        {
          "output_type": "stream",
          "text": [
            "[[2 3]\n",
            " [6 7]]\n",
            "[5 6 7 8]\n",
            "[ 2  6 10]\n",
            "6\n"
          ],
          "name": "stdout"
        }
      ]
    },
    {
      "cell_type": "code",
      "metadata": {
        "id": "9QRGj-anRJnq",
        "colab_type": "code",
        "outputId": "f4bb5f94-25f8-4fb5-9e42-26eb983ee8b3",
        "colab": {
          "base_uri": "https://localhost:8080/",
          "height": 68
        }
      },
      "source": [
        "a = np.array([[1,2,3,4], [5,6,7,8], [9,10,11,12]])\n",
        "\n",
        "# (Advanced)Two ways of accessing the data in the middle row of the array.\n",
        "# Mixing integer indexing with slices yields an array of lower rank,\n",
        "# while using only slices yields an array of the same rank as the\n",
        "# original array:\n",
        "r1 = a[0, :] # rank 1 view of the first row\n",
        "r2 = a[0:1, :] # rank 2 view of the first row \n",
        "print(r1, r1.shape)\n",
        "print(r2, r2.shape)\n",
        "\n",
        "r1 = r1.reshape(-1, r1.shape[0])\n",
        "print(r1, r1.shape)"
      ],
      "execution_count": 0,
      "outputs": [
        {
          "output_type": "stream",
          "text": [
            "[1 2 3 4] (4,)\n",
            "[[1 2 3 4]] (1, 4)\n",
            "[[1 2 3 4]] (1, 4)\n"
          ],
          "name": "stdout"
        }
      ]
    },
    {
      "cell_type": "code",
      "metadata": {
        "id": "zMANS-DrSzRw",
        "colab_type": "code",
        "outputId": "27559995-66c9-45c0-e467-883605ecb61e",
        "colab": {
          "base_uri": "https://localhost:8080/",
          "height": 170
        }
      },
      "source": [
        "# boolean masking\n",
        "import numpy as np\n",
        "\n",
        "a = np.array([[1,2,3,4], [5,6,7,8], [9,10,11,12]])\n",
        "\n",
        "a_idx1 = (a < 5) # return the boolean array that satisfies the conidtion\n",
        "print(a_idx1)\n",
        "a_idx2 = (a >=5) & (a <= 10) # return the boolean array that satisfies the conidtion\n",
        "print(a_idx2)\n",
        "\n",
        "print(a[a_idx1]) # return the corresponding array\n",
        "print(a[a_idx2]) # return the corresponding array\n",
        "\n",
        "print(a[(a > 5) & (a < 10)]) # single statement\n"
      ],
      "execution_count": 0,
      "outputs": [
        {
          "output_type": "stream",
          "text": [
            "[[ True  True  True  True]\n",
            " [False False False False]\n",
            " [False False False False]]\n",
            "[[False False False False]\n",
            " [ True  True  True  True]\n",
            " [ True  True False False]]\n",
            "[1 2 3 4]\n",
            "[ 5  6  7  8  9 10]\n",
            "[6 7 8 9]\n"
          ],
          "name": "stdout"
        }
      ]
    },
    {
      "cell_type": "markdown",
      "metadata": {
        "id": "8PATvmrlHWBE",
        "colab_type": "text"
      },
      "source": [
        "#### Math"
      ]
    },
    {
      "cell_type": "code",
      "metadata": {
        "id": "TxaGALTuHYjN",
        "colab_type": "code",
        "outputId": "b053bd02-6ad0-489b-9c18-6f99851a0f94",
        "colab": {
          "base_uri": "https://localhost:8080/",
          "height": 374
        }
      },
      "source": [
        "import numpy as np\n",
        "\n",
        "a = np.array([[10, 11, 12], [13, 14, 15]])\n",
        "print(a.shape)\n",
        "print(a)\n",
        "b = np.arange(1, 7).reshape((2, 3))\n",
        "print(b.shape)\n",
        "print(b)\n",
        "\n",
        "# element-wise calculation:\n",
        "print(a + b)\n",
        "print(a - b)\n",
        "print(np.add(a, b))\n",
        "print(a * b)\n",
        "\n",
        "# Matrix product\n",
        "print(np.dot(a, b.transpose())) # 2x3, 3x2\n",
        "print(a.T.dot(b)) # 3x2, 2x3\n",
        "\n",
        "# calculation along row or column index, calculate by the index of the axis which is set\n",
        "print(np.sum(a, axis = 0)) # sum along row\n",
        "print(np.sum(a, axis = 1)) # sum along column\n"
      ],
      "execution_count": 0,
      "outputs": [
        {
          "output_type": "stream",
          "text": [
            "(2, 3)\n",
            "[[10 11 12]\n",
            " [13 14 15]]\n",
            "(2, 3)\n",
            "[[1 2 3]\n",
            " [4 5 6]]\n",
            "[[11 13 15]\n",
            " [17 19 21]]\n",
            "[[9 9 9]\n",
            " [9 9 9]]\n",
            "[[11 13 15]\n",
            " [17 19 21]]\n",
            "[[10 22 36]\n",
            " [52 70 90]]\n",
            "[[ 68 167]\n",
            " [ 86 212]]\n",
            "[[ 62  85 108]\n",
            " [ 67  92 117]\n",
            " [ 72  99 126]]\n",
            "[23 25 27]\n",
            "[33 42]\n"
          ],
          "name": "stdout"
        }
      ]
    },
    {
      "cell_type": "code",
      "metadata": {
        "id": "bk4CLmb_Mqjv",
        "colab_type": "code",
        "outputId": "ef364e52-4424-405a-f2df-6cd0dd6a8b60",
        "colab": {
          "base_uri": "https://localhost:8080/",
          "height": 187
        }
      },
      "source": [
        "print(a, a.shape)\n",
        "print(b, b.shape)\n",
        "# print(a + b)\n",
        "# print(a - b)\n",
        "# print(np.add(a, b))\n",
        "# 2x3 * 3x2 -> 2x2\n",
        "# 3x2 * 2x3 -> 3x3\n",
        "print(b.T, b.T.shape)\n",
        "\n",
        "a.T.dot(b)\n"
      ],
      "execution_count": 0,
      "outputs": [
        {
          "output_type": "stream",
          "text": [
            "[[10 11 12]\n",
            " [13 14 15]] (2, 3)\n",
            "[[1 2 3]\n",
            " [4 5 6]] (2, 3)\n",
            "[[1 4]\n",
            " [2 5]\n",
            " [3 6]] (3, 2)\n"
          ],
          "name": "stdout"
        },
        {
          "output_type": "execute_result",
          "data": {
            "text/plain": [
              "array([[ 62,  85, 108],\n",
              "       [ 67,  92, 117],\n",
              "       [ 72,  99, 126]])"
            ]
          },
          "metadata": {
            "tags": []
          },
          "execution_count": 30
        }
      ]
    },
    {
      "cell_type": "code",
      "metadata": {
        "id": "Pv_KQJGzK1jF",
        "colab_type": "code",
        "outputId": "80ddd7bc-d3a1-4fa1-ae4b-7fd3aead8ec9",
        "colab": {
          "base_uri": "https://localhost:8080/",
          "height": 153
        }
      },
      "source": [
        "# (Advanced+)broadcasting\n",
        "\n",
        "\n",
        "import numpy as np\n",
        "\n",
        "a = np.array([[10, 11, 12], [13, 14, 15]])\n",
        "print(a)\n",
        "\n",
        "a += 1 # add 1 to all the elements\n",
        "print(a)\n",
        "\n",
        "a += np.array([-1, -2, -3]) # add [-1, -2, -3] to all columns for each row\n",
        "print(a)\n",
        "\n",
        "a += np.array([[-1], [-2]]) # add [[-1], [-2]] to all rows for each column\n",
        "print(a)"
      ],
      "execution_count": 0,
      "outputs": [
        {
          "output_type": "stream",
          "text": [
            "[[10 11 12]\n",
            " [13 14 15]]\n",
            "[[11 12 13]\n",
            " [14 15 16]]\n",
            "[[10 10 10]\n",
            " [13 13 13]]\n",
            "[[ 9  9  9]\n",
            " [11 11 11]]\n"
          ],
          "name": "stdout"
        }
      ]
    },
    {
      "cell_type": "markdown",
      "metadata": {
        "id": "OEHlKGFIHDGh",
        "colab_type": "text"
      },
      "source": [
        "Read more for [broadcasting](https://docs.scipy.org/doc/numpy-1.15.0/user/basics.broadcasting.html)"
      ]
    },
    {
      "cell_type": "code",
      "metadata": {
        "id": "0FL4pjhLWt-L",
        "colab_type": "code",
        "outputId": "383c322a-750a-4583-8776-4264f53c3ec7",
        "colab": {
          "base_uri": "https://localhost:8080/",
          "height": 68
        }
      },
      "source": [
        "import numpy as np\n",
        "\n",
        "# Two dimensions are compatible when\n",
        "# they are equal, or\n",
        "# one of them is 1\n",
        "a = np.array([1, 2, 3]) # 1x3\n",
        "b = np.array([[4], [5], [6]]) # 3x1\n",
        "\n",
        "print(a + b)"
      ],
      "execution_count": 0,
      "outputs": [
        {
          "output_type": "stream",
          "text": [
            "[[5 6 7]\n",
            " [6 7 8]\n",
            " [7 8 9]]\n"
          ],
          "name": "stdout"
        }
      ]
    },
    {
      "cell_type": "markdown",
      "metadata": {
        "id": "X_3CwBxJX2sr",
        "colab_type": "text"
      },
      "source": [
        "#### Random"
      ]
    },
    {
      "cell_type": "code",
      "metadata": {
        "id": "CRoLZLBUX6HZ",
        "colab_type": "code",
        "outputId": "310d1054-ae12-4ce1-9532-2f33c4f65608",
        "colab": {
          "base_uri": "https://localhost:8080/",
          "height": 374
        }
      },
      "source": [
        "np.random.seed(42) # same seed can repro the same scenario so it is deterministic\n",
        "\n",
        "print(np.random.rand(2,2)) # Random numbers between [0,1) of shape 2,2\n",
        "print(np.random.randn(2,2)) # Normal distribution with mean=0 and variance=1 of shape 2,2\n",
        "print(np.random.randint(0, 10, size=[2,2])) # Random integers between [0, 10) of shape 2,2\n",
        "print(np.random.random()) # One random number between [0,1)\n",
        "print(np.random.random(size=[2,2])) # Random numbers between [0,1) of shape 2,2\n",
        "print(np.random.choice(['a', 'e', 'i', 'o', 'u'], size=10)) # Pick 10 items from a given list, with equal probability\n",
        "print(np.random.choice(['a', 'e', 'i', 'o', 'u'], size=10, p=[0.3, .1, 0.1, 0.4, 0.1])) # Pick 10 items from a given list with a predefined probability 'p'\n",
        "print(np.random.choice(np.arange(100),size=[10,3],replace=True)) # get 10x3 random samples from [0-99] with replacement "
      ],
      "execution_count": 0,
      "outputs": [
        {
          "output_type": "stream",
          "text": [
            "[[0.37454012 0.95071431]\n",
            " [0.73199394 0.59865848]]\n",
            "[[-0.23415337 -0.23413696]\n",
            " [ 1.57921282  0.76743473]]\n",
            "[[5 4]\n",
            " [1 7]]\n",
            "0.8324426408004217\n",
            "[[0.21233911 0.18182497]\n",
            " [0.18340451 0.30424224]]\n",
            "['u' 'o' 'a' 'a' 'i' 'i' 'e' 'o' 'o' 'i']\n",
            "['e' 'u' 'i' 'o' 'o' 'i' 'a' 'u' 'o' 'e']\n",
            "[[89 52  1]\n",
            " [83 91 59]\n",
            " [70 43  7]\n",
            " [46 34 77]\n",
            " [80 35 49]\n",
            " [ 3  1  5]\n",
            " [53  3 53]\n",
            " [92 62 17]\n",
            " [89 43 33]\n",
            " [73 61 99]]\n"
          ],
          "name": "stdout"
        }
      ]
    },
    {
      "cell_type": "code",
      "metadata": {
        "id": "G40xA9H-ZADV",
        "colab_type": "code",
        "outputId": "189ce2e0-639c-4b1a-9a20-f3bd6456b0c7",
        "colab": {
          "base_uri": "https://localhost:8080/",
          "height": 680
        }
      },
      "source": [
        "#(Advanced) use random generator to do train/test split\n",
        "\n",
        "url=\"https://gist.githubusercontent.com/curran/a08a1080b88344b0c8a7/raw/d546eaee765268bf2f487608c537c05e22e4b221/iris.csv\"\n",
        "iris = pd.read_csv(url)\n",
        "print(iris.head())\n",
        "print(iris.info())\n",
        "\n",
        "# Split data into training and testing\n",
        "np.random.seed(42)\n",
        "iris_idx = np.arange(iris.shape[0])\n",
        "\n",
        "num_training = int(np.floor(0.75 * iris.shape[0]))\n",
        "iris_train_idx = np.random.choice(iris_idx, size=num_training, replace=False)\n",
        "iris_test_idx = np.delete(iris_idx, iris_train_idx)\n",
        "iris_train = iris.iloc[iris_train_idx]\n",
        "iris_test = iris.iloc[iris_test_idx]\n",
        "\n",
        "print(iris_train.info())\n",
        "print(iris_test.info())\n"
      ],
      "execution_count": 0,
      "outputs": [
        {
          "output_type": "stream",
          "text": [
            "   sepal_length  sepal_width  petal_length  petal_width species\n",
            "0           5.1          3.5           1.4          0.2  setosa\n",
            "1           4.9          3.0           1.4          0.2  setosa\n",
            "2           4.7          3.2           1.3          0.2  setosa\n",
            "3           4.6          3.1           1.5          0.2  setosa\n",
            "4           5.0          3.6           1.4          0.2  setosa\n",
            "<class 'pandas.core.frame.DataFrame'>\n",
            "RangeIndex: 150 entries, 0 to 149\n",
            "Data columns (total 5 columns):\n",
            "sepal_length    150 non-null float64\n",
            "sepal_width     150 non-null float64\n",
            "petal_length    150 non-null float64\n",
            "petal_width     150 non-null float64\n",
            "species         150 non-null object\n",
            "dtypes: float64(4), object(1)\n",
            "memory usage: 5.9+ KB\n",
            "None\n",
            "<class 'pandas.core.frame.DataFrame'>\n",
            "Int64Index: 112 entries, 73 to 126\n",
            "Data columns (total 5 columns):\n",
            "sepal_length    112 non-null float64\n",
            "sepal_width     112 non-null float64\n",
            "petal_length    112 non-null float64\n",
            "petal_width     112 non-null float64\n",
            "species         112 non-null object\n",
            "dtypes: float64(4), object(1)\n",
            "memory usage: 5.2+ KB\n",
            "None\n",
            "<class 'pandas.core.frame.DataFrame'>\n",
            "Int64Index: 38 entries, 1 to 149\n",
            "Data columns (total 5 columns):\n",
            "sepal_length    38 non-null float64\n",
            "sepal_width     38 non-null float64\n",
            "petal_length    38 non-null float64\n",
            "petal_width     38 non-null float64\n",
            "species         38 non-null object\n",
            "dtypes: float64(4), object(1)\n",
            "memory usage: 1.8+ KB\n",
            "None\n"
          ],
          "name": "stdout"
        }
      ]
    },
    {
      "cell_type": "code",
      "metadata": {
        "id": "Wjib7gOJdcrH",
        "colab_type": "code",
        "outputId": "98a8091d-ab8f-4a6b-b7e4-98aea074a134",
        "colab": {
          "base_uri": "https://localhost:8080/",
          "height": 391
        }
      },
      "source": [
        "# (Advanced)use np.random.shuffle\n",
        "iris_idx = np.arange(iris.shape[0])\n",
        "np.random.shuffle(iris_idx)\n",
        "iris.index = iris_idx\n",
        "num_training = int(np.floor(0.75 * iris.shape[0]))\n",
        "iris_train = iris.iloc[:num_training]\n",
        "iris_test = iris.iloc[num_training:]\n",
        "\n",
        "print(iris_train.info())\n",
        "print(iris_test.info())\n"
      ],
      "execution_count": 0,
      "outputs": [
        {
          "output_type": "stream",
          "text": [
            "<class 'pandas.core.frame.DataFrame'>\n",
            "Int64Index: 112 entries, 84 to 105\n",
            "Data columns (total 5 columns):\n",
            "sepal_length    112 non-null float64\n",
            "sepal_width     112 non-null float64\n",
            "petal_length    112 non-null float64\n",
            "petal_width     112 non-null float64\n",
            "species         112 non-null object\n",
            "dtypes: float64(4), object(1)\n",
            "memory usage: 5.2+ KB\n",
            "None\n",
            "<class 'pandas.core.frame.DataFrame'>\n",
            "Int64Index: 38 entries, 50 to 142\n",
            "Data columns (total 5 columns):\n",
            "sepal_length    38 non-null float64\n",
            "sepal_width     38 non-null float64\n",
            "petal_length    38 non-null float64\n",
            "petal_width     38 non-null float64\n",
            "species         38 non-null object\n",
            "dtypes: float64(4), object(1)\n",
            "memory usage: 1.8+ KB\n",
            "None\n"
          ],
          "name": "stdout"
        }
      ]
    },
    {
      "cell_type": "code",
      "metadata": {
        "id": "yn_LjwBCeR2D",
        "colab_type": "code",
        "outputId": "700df314-4369-4c9c-9f66-2bbdb4cb18c7",
        "colab": {
          "base_uri": "https://localhost:8080/",
          "height": 187
        }
      },
      "source": [
        "# (Advanced)use sklearn to spilt data\n",
        "from sklearn.model_selection import train_test_split\n",
        "\n",
        "X = iris.drop('species', axis = 1)\n",
        "y = iris['species']\n",
        "\n",
        "X_train, X_test, y_train, y_test = train_test_split(X, y, test_size=0.25, random_state=21, stratify=y)\n",
        "\n",
        "print(X_train.info())"
      ],
      "execution_count": 0,
      "outputs": [
        {
          "output_type": "stream",
          "text": [
            "<class 'pandas.core.frame.DataFrame'>\n",
            "Int64Index: 112 entries, 16 to 148\n",
            "Data columns (total 4 columns):\n",
            "sepal_length    112 non-null float64\n",
            "sepal_width     112 non-null float64\n",
            "petal_length    112 non-null float64\n",
            "petal_width     112 non-null float64\n",
            "dtypes: float64(4)\n",
            "memory usage: 4.4 KB\n",
            "None\n"
          ],
          "name": "stdout"
        }
      ]
    },
    {
      "cell_type": "markdown",
      "metadata": {
        "id": "S7LQMWhigQVD",
        "colab_type": "text"
      },
      "source": [
        "##Pandas\n",
        "\n",
        "**pandas** is a Python package providing fast, flexible, and expressive data structures designed to make working with “relational” or “labeled” data both easy and intuitive. It aims to be the fundamental high-level building block for doing practical, real world data analysis in Python. Additionally, it has the broader goal of becoming **the most powerful and flexible open source data analysis / manipulation tool available in any language**. It is already well on its way toward this goal.\n",
        "\n",
        "The two primary data structures of pandas, **Series (1-dimensional)** and **DataFrame (2-dimensional)**, handle the vast majority of typical use cases in finance, statistics, social science, and many areas of engineering. pandas is built on top of **NumPy** and is intended to integrate well within a scientific computing environment with many other 3rd party libraries."
      ]
    },
    {
      "cell_type": "markdown",
      "metadata": {
        "id": "MFzq7-k8Pz_7",
        "colab_type": "text"
      },
      "source": [
        "#### Load Data"
      ]
    },
    {
      "cell_type": "code",
      "metadata": {
        "id": "Y6ehD29wPypS",
        "colab_type": "code",
        "colab": {}
      },
      "source": [
        "import pandas as pd\n",
        "# read data from csv file\n",
        "# pd.read_csv(\"../data_folder/data.csv\")"
      ],
      "execution_count": 0,
      "outputs": []
    },
    {
      "cell_type": "code",
      "metadata": {
        "id": "17uRXLoERkSI",
        "colab_type": "code",
        "outputId": "56eff475-92ce-4c89-f153-ea7f9aa9b39f",
        "colab": {
          "base_uri": "https://localhost:8080/",
          "height": 119
        }
      },
      "source": [
        "# read data from URL\n",
        "iris = 'http://archive.ics.uci.edu/ml/machine-learning-databases/iris/iris.data'\n",
        "df_iris = pd.read_csv(iris, sep=',', header=None)\n",
        "print(df_iris.head())"
      ],
      "execution_count": 0,
      "outputs": [
        {
          "output_type": "stream",
          "text": [
            "     0    1    2    3            4\n",
            "0  5.1  3.5  1.4  0.2  Iris-setosa\n",
            "1  4.9  3.0  1.4  0.2  Iris-setosa\n",
            "2  4.7  3.2  1.3  0.2  Iris-setosa\n",
            "3  4.6  3.1  1.5  0.2  Iris-setosa\n",
            "4  5.0  3.6  1.4  0.2  Iris-setosa\n"
          ],
          "name": "stdout"
        }
      ]
    },
    {
      "cell_type": "code",
      "metadata": {
        "id": "jfQN-VFcuqMV",
        "colab_type": "code",
        "colab": {}
      },
      "source": [
        "# read data from github link\n",
        "import pandas as pd\n",
        "import io\n",
        "import requests\n",
        "url=\"https://gist.githubusercontent.com/curran/a08a1080b88344b0c8a7/raw/d546eaee765268bf2f487608c537c05e22e4b221/iris.csv\"\n",
        "c=pd.read_csv(url)\n"
      ],
      "execution_count": 0,
      "outputs": []
    },
    {
      "cell_type": "code",
      "metadata": {
        "id": "lAU86Sckvbns",
        "colab_type": "code",
        "outputId": "3fe3086d-55ce-443d-d386-917fccf8be1f",
        "colab": {
          "base_uri": "https://localhost:8080/",
          "height": 204
        }
      },
      "source": [
        "c.head()"
      ],
      "execution_count": 0,
      "outputs": [
        {
          "output_type": "execute_result",
          "data": {
            "text/html": [
              "<div>\n",
              "<style scoped>\n",
              "    .dataframe tbody tr th:only-of-type {\n",
              "        vertical-align: middle;\n",
              "    }\n",
              "\n",
              "    .dataframe tbody tr th {\n",
              "        vertical-align: top;\n",
              "    }\n",
              "\n",
              "    .dataframe thead th {\n",
              "        text-align: right;\n",
              "    }\n",
              "</style>\n",
              "<table border=\"1\" class=\"dataframe\">\n",
              "  <thead>\n",
              "    <tr style=\"text-align: right;\">\n",
              "      <th></th>\n",
              "      <th>sepal_length</th>\n",
              "      <th>sepal_width</th>\n",
              "      <th>petal_length</th>\n",
              "      <th>petal_width</th>\n",
              "      <th>species</th>\n",
              "    </tr>\n",
              "  </thead>\n",
              "  <tbody>\n",
              "    <tr>\n",
              "      <th>0</th>\n",
              "      <td>5.1</td>\n",
              "      <td>3.5</td>\n",
              "      <td>1.4</td>\n",
              "      <td>0.2</td>\n",
              "      <td>setosa</td>\n",
              "    </tr>\n",
              "    <tr>\n",
              "      <th>1</th>\n",
              "      <td>4.9</td>\n",
              "      <td>3.0</td>\n",
              "      <td>1.4</td>\n",
              "      <td>0.2</td>\n",
              "      <td>setosa</td>\n",
              "    </tr>\n",
              "    <tr>\n",
              "      <th>2</th>\n",
              "      <td>4.7</td>\n",
              "      <td>3.2</td>\n",
              "      <td>1.3</td>\n",
              "      <td>0.2</td>\n",
              "      <td>setosa</td>\n",
              "    </tr>\n",
              "    <tr>\n",
              "      <th>3</th>\n",
              "      <td>4.6</td>\n",
              "      <td>3.1</td>\n",
              "      <td>1.5</td>\n",
              "      <td>0.2</td>\n",
              "      <td>setosa</td>\n",
              "    </tr>\n",
              "    <tr>\n",
              "      <th>4</th>\n",
              "      <td>5.0</td>\n",
              "      <td>3.6</td>\n",
              "      <td>1.4</td>\n",
              "      <td>0.2</td>\n",
              "      <td>setosa</td>\n",
              "    </tr>\n",
              "  </tbody>\n",
              "</table>\n",
              "</div>"
            ],
            "text/plain": [
              "   sepal_length  sepal_width  petal_length  petal_width species\n",
              "0           5.1          3.5           1.4          0.2  setosa\n",
              "1           4.9          3.0           1.4          0.2  setosa\n",
              "2           4.7          3.2           1.3          0.2  setosa\n",
              "3           4.6          3.1           1.5          0.2  setosa\n",
              "4           5.0          3.6           1.4          0.2  setosa"
            ]
          },
          "metadata": {
            "tags": []
          },
          "execution_count": 40
        }
      ]
    },
    {
      "cell_type": "code",
      "metadata": {
        "id": "m5-Ly9As5Rxz",
        "colab_type": "code",
        "outputId": "65e84c64-44e2-4654-a62e-e089521945ee",
        "colab": {
          "base_uri": "https://localhost:8080/",
          "height": 204
        }
      },
      "source": [
        "c.tail()"
      ],
      "execution_count": 0,
      "outputs": [
        {
          "output_type": "execute_result",
          "data": {
            "text/html": [
              "<div>\n",
              "<style scoped>\n",
              "    .dataframe tbody tr th:only-of-type {\n",
              "        vertical-align: middle;\n",
              "    }\n",
              "\n",
              "    .dataframe tbody tr th {\n",
              "        vertical-align: top;\n",
              "    }\n",
              "\n",
              "    .dataframe thead th {\n",
              "        text-align: right;\n",
              "    }\n",
              "</style>\n",
              "<table border=\"1\" class=\"dataframe\">\n",
              "  <thead>\n",
              "    <tr style=\"text-align: right;\">\n",
              "      <th></th>\n",
              "      <th>sepal_length</th>\n",
              "      <th>sepal_width</th>\n",
              "      <th>petal_length</th>\n",
              "      <th>petal_width</th>\n",
              "      <th>species</th>\n",
              "    </tr>\n",
              "  </thead>\n",
              "  <tbody>\n",
              "    <tr>\n",
              "      <th>145</th>\n",
              "      <td>6.7</td>\n",
              "      <td>3.0</td>\n",
              "      <td>5.2</td>\n",
              "      <td>2.3</td>\n",
              "      <td>virginica</td>\n",
              "    </tr>\n",
              "    <tr>\n",
              "      <th>146</th>\n",
              "      <td>6.3</td>\n",
              "      <td>2.5</td>\n",
              "      <td>5.0</td>\n",
              "      <td>1.9</td>\n",
              "      <td>virginica</td>\n",
              "    </tr>\n",
              "    <tr>\n",
              "      <th>147</th>\n",
              "      <td>6.5</td>\n",
              "      <td>3.0</td>\n",
              "      <td>5.2</td>\n",
              "      <td>2.0</td>\n",
              "      <td>virginica</td>\n",
              "    </tr>\n",
              "    <tr>\n",
              "      <th>148</th>\n",
              "      <td>6.2</td>\n",
              "      <td>3.4</td>\n",
              "      <td>5.4</td>\n",
              "      <td>2.3</td>\n",
              "      <td>virginica</td>\n",
              "    </tr>\n",
              "    <tr>\n",
              "      <th>149</th>\n",
              "      <td>5.9</td>\n",
              "      <td>3.0</td>\n",
              "      <td>5.1</td>\n",
              "      <td>1.8</td>\n",
              "      <td>virginica</td>\n",
              "    </tr>\n",
              "  </tbody>\n",
              "</table>\n",
              "</div>"
            ],
            "text/plain": [
              "     sepal_length  sepal_width  petal_length  petal_width    species\n",
              "145           6.7          3.0           5.2          2.3  virginica\n",
              "146           6.3          2.5           5.0          1.9  virginica\n",
              "147           6.5          3.0           5.2          2.0  virginica\n",
              "148           6.2          3.4           5.4          2.3  virginica\n",
              "149           5.9          3.0           5.1          1.8  virginica"
            ]
          },
          "metadata": {
            "tags": []
          },
          "execution_count": 41
        }
      ]
    },
    {
      "cell_type": "code",
      "metadata": {
        "id": "C8KzbAt7SWMs",
        "colab_type": "code",
        "colab": {}
      },
      "source": [
        "# Read data from Google Drive (not recommended)\n",
        "# https://colab.sandbox.google.com/notebooks/io.ipynb"
      ],
      "execution_count": 0,
      "outputs": []
    },
    {
      "cell_type": "code",
      "metadata": {
        "id": "QBT5n19WSeKh",
        "colab_type": "code",
        "outputId": "3ece9bd5-29c5-4003-ec10-f903f88964a9",
        "colab": {
          "base_uri": "https://localhost:8080/",
          "height": 427
        }
      },
      "source": [
        "# Read data from Google Drive (recommend)\n",
        "# step 1: change your csv file in Drive as Anyone with the link can view\n",
        "# https://drive.google.com/open?id=1k0ZYUdqqjPjVWCw3ElcaMMRFg6H3-Pjh\n",
        "# https://drive.google.com/open?id=1Cv7_0sRGwwaKjd0PuquybacS6DA8PU4B\n",
        "file_id='1k0ZYUdqqjPjVWCw3ElcaMMRFg6H3-Pjh'\n",
        "link='https://drive.google.com/uc?export=download&id={FILE_ID}'\n",
        "csv_url=link.format(FILE_ID=file_id)\n",
        "df_uk_rain = pd.read_csv(csv_url)\n",
        "print(df_uk_rain.columns)\n",
        "df_uk_rain.columns = ['water_year','rain_octsep', 'outflow_octsep',\n",
        "              'rain_decfeb', 'outflow_decfeb', 'rain_junaug', 'outflow_junaug']\n",
        "\n",
        "df_uk_rain.head(10)"
      ],
      "execution_count": 0,
      "outputs": [
        {
          "output_type": "stream",
          "text": [
            "Index(['Water Year', 'Rain (mm) Oct-Sep', 'Outflow (m3/s) Oct-Sep',\n",
            "       'Rain (mm) Dec-Feb', 'Outflow (m3/s) Dec-Feb', 'Rain (mm) Jun-Aug',\n",
            "       'Outflow (m3/s) Jun-Aug'],\n",
            "      dtype='object')\n"
          ],
          "name": "stdout"
        },
        {
          "output_type": "execute_result",
          "data": {
            "text/html": [
              "<div>\n",
              "<style scoped>\n",
              "    .dataframe tbody tr th:only-of-type {\n",
              "        vertical-align: middle;\n",
              "    }\n",
              "\n",
              "    .dataframe tbody tr th {\n",
              "        vertical-align: top;\n",
              "    }\n",
              "\n",
              "    .dataframe thead th {\n",
              "        text-align: right;\n",
              "    }\n",
              "</style>\n",
              "<table border=\"1\" class=\"dataframe\">\n",
              "  <thead>\n",
              "    <tr style=\"text-align: right;\">\n",
              "      <th></th>\n",
              "      <th>water_year</th>\n",
              "      <th>rain_octsep</th>\n",
              "      <th>outflow_octsep</th>\n",
              "      <th>rain_decfeb</th>\n",
              "      <th>outflow_decfeb</th>\n",
              "      <th>rain_junaug</th>\n",
              "      <th>outflow_junaug</th>\n",
              "    </tr>\n",
              "  </thead>\n",
              "  <tbody>\n",
              "    <tr>\n",
              "      <th>0</th>\n",
              "      <td>1980/81</td>\n",
              "      <td>1182</td>\n",
              "      <td>5408</td>\n",
              "      <td>292</td>\n",
              "      <td>7248</td>\n",
              "      <td>174</td>\n",
              "      <td>2212</td>\n",
              "    </tr>\n",
              "    <tr>\n",
              "      <th>1</th>\n",
              "      <td>1981/82</td>\n",
              "      <td>1098</td>\n",
              "      <td>5112</td>\n",
              "      <td>257</td>\n",
              "      <td>7316</td>\n",
              "      <td>242</td>\n",
              "      <td>1936</td>\n",
              "    </tr>\n",
              "    <tr>\n",
              "      <th>2</th>\n",
              "      <td>1982/83</td>\n",
              "      <td>1156</td>\n",
              "      <td>5701</td>\n",
              "      <td>330</td>\n",
              "      <td>8567</td>\n",
              "      <td>124</td>\n",
              "      <td>1802</td>\n",
              "    </tr>\n",
              "    <tr>\n",
              "      <th>3</th>\n",
              "      <td>1983/84</td>\n",
              "      <td>993</td>\n",
              "      <td>4265</td>\n",
              "      <td>391</td>\n",
              "      <td>8905</td>\n",
              "      <td>141</td>\n",
              "      <td>1078</td>\n",
              "    </tr>\n",
              "    <tr>\n",
              "      <th>4</th>\n",
              "      <td>1984/85</td>\n",
              "      <td>1182</td>\n",
              "      <td>5364</td>\n",
              "      <td>217</td>\n",
              "      <td>5813</td>\n",
              "      <td>343</td>\n",
              "      <td>4313</td>\n",
              "    </tr>\n",
              "    <tr>\n",
              "      <th>5</th>\n",
              "      <td>1985/86</td>\n",
              "      <td>1027</td>\n",
              "      <td>4991</td>\n",
              "      <td>304</td>\n",
              "      <td>7951</td>\n",
              "      <td>229</td>\n",
              "      <td>2595</td>\n",
              "    </tr>\n",
              "    <tr>\n",
              "      <th>6</th>\n",
              "      <td>1986/87</td>\n",
              "      <td>1151</td>\n",
              "      <td>5196</td>\n",
              "      <td>295</td>\n",
              "      <td>7593</td>\n",
              "      <td>267</td>\n",
              "      <td>2826</td>\n",
              "    </tr>\n",
              "    <tr>\n",
              "      <th>7</th>\n",
              "      <td>1987/88</td>\n",
              "      <td>1210</td>\n",
              "      <td>5572</td>\n",
              "      <td>343</td>\n",
              "      <td>8456</td>\n",
              "      <td>294</td>\n",
              "      <td>3154</td>\n",
              "    </tr>\n",
              "    <tr>\n",
              "      <th>8</th>\n",
              "      <td>1988/89</td>\n",
              "      <td>976</td>\n",
              "      <td>4330</td>\n",
              "      <td>309</td>\n",
              "      <td>6465</td>\n",
              "      <td>200</td>\n",
              "      <td>1440</td>\n",
              "    </tr>\n",
              "    <tr>\n",
              "      <th>9</th>\n",
              "      <td>1989/90</td>\n",
              "      <td>1130</td>\n",
              "      <td>4973</td>\n",
              "      <td>470</td>\n",
              "      <td>10520</td>\n",
              "      <td>209</td>\n",
              "      <td>1740</td>\n",
              "    </tr>\n",
              "  </tbody>\n",
              "</table>\n",
              "</div>"
            ],
            "text/plain": [
              "  water_year  rain_octsep  ...  rain_junaug  outflow_junaug\n",
              "0    1980/81         1182  ...          174            2212\n",
              "1    1981/82         1098  ...          242            1936\n",
              "2    1982/83         1156  ...          124            1802\n",
              "3    1983/84          993  ...          141            1078\n",
              "4    1984/85         1182  ...          343            4313\n",
              "5    1985/86         1027  ...          229            2595\n",
              "6    1986/87         1151  ...          267            2826\n",
              "7    1987/88         1210  ...          294            3154\n",
              "8    1988/89          976  ...          200            1440\n",
              "9    1989/90         1130  ...          209            1740\n",
              "\n",
              "[10 rows x 7 columns]"
            ]
          },
          "metadata": {
            "tags": []
          },
          "execution_count": 43
        }
      ]
    },
    {
      "cell_type": "code",
      "metadata": {
        "id": "RirnABiPTNjW",
        "colab_type": "code",
        "colab": {}
      },
      "source": [
        "# Save dataframe to CSV and save to local machine\n",
        "df_uk_rain.to_csv('df.csv', index=False)\n",
        "from google.colab import files\n",
        "# files.download('df.csv')"
      ],
      "execution_count": 0,
      "outputs": []
    },
    {
      "cell_type": "markdown",
      "metadata": {
        "id": "zJkbEoa9Wm-S",
        "colab_type": "text"
      },
      "source": [
        "#### Data Structures\n",
        "\n",
        "**Series** is a one-dimensional labeled array capable of holding any data type (integers, strings, floating point numbers, Python objects, etc.). The axis labels are collectively referred to as the index.\n",
        "\n",
        "**DataFrame** is a 2-dimensional labeled data structure with columns of potentially different types. You can think of it like a spreadsheet or SQL table, or a dict of Series objects. It is generally the most commonly used pandas object. "
      ]
    },
    {
      "cell_type": "code",
      "metadata": {
        "id": "U90sQOhyWqig",
        "colab_type": "code",
        "outputId": "c4e3e4a6-0b3c-4692-a159-b71083a07e48",
        "colab": {
          "base_uri": "https://localhost:8080/",
          "height": 170
        }
      },
      "source": [
        "# Series from list\n",
        "s = pd.Series([1,3,5,np.nan,6,8], index = ['a','b','c','d','e','f'])\n",
        "\n",
        "print(s)\n",
        "print(type(s))\n",
        "\n",
        "s.index\n"
      ],
      "execution_count": 0,
      "outputs": [
        {
          "output_type": "stream",
          "text": [
            "a    1.0\n",
            "b    3.0\n",
            "c    5.0\n",
            "d    NaN\n",
            "e    6.0\n",
            "f    8.0\n",
            "dtype: float64\n",
            "<class 'pandas.core.series.Series'>\n"
          ],
          "name": "stdout"
        },
        {
          "output_type": "execute_result",
          "data": {
            "text/plain": [
              "Index(['a', 'b', 'c', 'd', 'e', 'f'], dtype='object')"
            ]
          },
          "metadata": {
            "tags": []
          },
          "execution_count": 45
        }
      ]
    },
    {
      "cell_type": "code",
      "metadata": {
        "id": "MWuNQmz8W8j4",
        "colab_type": "code",
        "outputId": "397aa00c-e75b-4dcc-989f-3dee0cde3eea",
        "colab": {
          "base_uri": "https://localhost:8080/",
          "height": 272
        }
      },
      "source": [
        "# Dataframe from lists\n",
        "df = pd.DataFrame({'list_x': [1,2,3,4,5,6],'list_y': ['1', '2', '3', '4', '5', '6'], 'list_z': ['1',2,3,4,5,6]})\n",
        "print(df)\n",
        "df.info()"
      ],
      "execution_count": 0,
      "outputs": [
        {
          "output_type": "stream",
          "text": [
            "   list_x list_y list_z\n",
            "0       1      1      1\n",
            "1       2      2      2\n",
            "2       3      3      3\n",
            "3       4      4      4\n",
            "4       5      5      5\n",
            "5       6      6      6\n",
            "<class 'pandas.core.frame.DataFrame'>\n",
            "RangeIndex: 6 entries, 0 to 5\n",
            "Data columns (total 3 columns):\n",
            "list_x    6 non-null int64\n",
            "list_y    6 non-null object\n",
            "list_z    6 non-null object\n",
            "dtypes: int64(1), object(2)\n",
            "memory usage: 224.0+ bytes\n"
          ],
          "name": "stdout"
        }
      ]
    },
    {
      "cell_type": "code",
      "metadata": {
        "id": "LmpQtYSlYj17",
        "colab_type": "code",
        "outputId": "0261bd31-cc51-4f93-ad48-2e07fb26ffb3",
        "colab": {
          "base_uri": "https://localhost:8080/",
          "height": 221
        }
      },
      "source": [
        "# Dataframe first 5(default) rows\n",
        "print(df_iris.head())\n",
        "print(df_iris.tail())"
      ],
      "execution_count": 0,
      "outputs": [
        {
          "output_type": "stream",
          "text": [
            "     0    1    2    3            4\n",
            "0  5.1  3.5  1.4  0.2  Iris-setosa\n",
            "1  4.9  3.0  1.4  0.2  Iris-setosa\n",
            "2  4.7  3.2  1.3  0.2  Iris-setosa\n",
            "3  4.6  3.1  1.5  0.2  Iris-setosa\n",
            "4  5.0  3.6  1.4  0.2  Iris-setosa\n",
            "       0    1    2    3               4\n",
            "145  6.7  3.0  5.2  2.3  Iris-virginica\n",
            "146  6.3  2.5  5.0  1.9  Iris-virginica\n",
            "147  6.5  3.0  5.2  2.0  Iris-virginica\n",
            "148  6.2  3.4  5.4  2.3  Iris-virginica\n",
            "149  5.9  3.0  5.1  1.8  Iris-virginica\n"
          ],
          "name": "stdout"
        }
      ]
    },
    {
      "cell_type": "code",
      "metadata": {
        "id": "4mZBlBMGYyoi",
        "colab_type": "code",
        "outputId": "36ae5d7a-2892-4269-8f14-3c20e2526b40",
        "colab": {
          "base_uri": "https://localhost:8080/",
          "height": 187
        }
      },
      "source": [
        "# Dataframe information\n",
        "df_iris.info()"
      ],
      "execution_count": 0,
      "outputs": [
        {
          "output_type": "stream",
          "text": [
            "<class 'pandas.core.frame.DataFrame'>\n",
            "RangeIndex: 150 entries, 0 to 149\n",
            "Data columns (total 5 columns):\n",
            "0    150 non-null float64\n",
            "1    150 non-null float64\n",
            "2    150 non-null float64\n",
            "3    150 non-null float64\n",
            "4    150 non-null object\n",
            "dtypes: float64(4), object(1)\n",
            "memory usage: 5.9+ KB\n"
          ],
          "name": "stdout"
        }
      ]
    },
    {
      "cell_type": "code",
      "metadata": {
        "id": "ZQ62tuXmY15J",
        "colab_type": "code",
        "outputId": "cf630bda-77f3-4474-d099-2e93d35abba0",
        "colab": {
          "base_uri": "https://localhost:8080/",
          "height": 297
        }
      },
      "source": [
        "# Dataframe stats information\n",
        "df_iris.describe()"
      ],
      "execution_count": 0,
      "outputs": [
        {
          "output_type": "execute_result",
          "data": {
            "text/html": [
              "<div>\n",
              "<style scoped>\n",
              "    .dataframe tbody tr th:only-of-type {\n",
              "        vertical-align: middle;\n",
              "    }\n",
              "\n",
              "    .dataframe tbody tr th {\n",
              "        vertical-align: top;\n",
              "    }\n",
              "\n",
              "    .dataframe thead th {\n",
              "        text-align: right;\n",
              "    }\n",
              "</style>\n",
              "<table border=\"1\" class=\"dataframe\">\n",
              "  <thead>\n",
              "    <tr style=\"text-align: right;\">\n",
              "      <th></th>\n",
              "      <th>0</th>\n",
              "      <th>1</th>\n",
              "      <th>2</th>\n",
              "      <th>3</th>\n",
              "    </tr>\n",
              "  </thead>\n",
              "  <tbody>\n",
              "    <tr>\n",
              "      <th>count</th>\n",
              "      <td>150.000000</td>\n",
              "      <td>150.000000</td>\n",
              "      <td>150.000000</td>\n",
              "      <td>150.000000</td>\n",
              "    </tr>\n",
              "    <tr>\n",
              "      <th>mean</th>\n",
              "      <td>5.843333</td>\n",
              "      <td>3.054000</td>\n",
              "      <td>3.758667</td>\n",
              "      <td>1.198667</td>\n",
              "    </tr>\n",
              "    <tr>\n",
              "      <th>std</th>\n",
              "      <td>0.828066</td>\n",
              "      <td>0.433594</td>\n",
              "      <td>1.764420</td>\n",
              "      <td>0.763161</td>\n",
              "    </tr>\n",
              "    <tr>\n",
              "      <th>min</th>\n",
              "      <td>4.300000</td>\n",
              "      <td>2.000000</td>\n",
              "      <td>1.000000</td>\n",
              "      <td>0.100000</td>\n",
              "    </tr>\n",
              "    <tr>\n",
              "      <th>25%</th>\n",
              "      <td>5.100000</td>\n",
              "      <td>2.800000</td>\n",
              "      <td>1.600000</td>\n",
              "      <td>0.300000</td>\n",
              "    </tr>\n",
              "    <tr>\n",
              "      <th>50%</th>\n",
              "      <td>5.800000</td>\n",
              "      <td>3.000000</td>\n",
              "      <td>4.350000</td>\n",
              "      <td>1.300000</td>\n",
              "    </tr>\n",
              "    <tr>\n",
              "      <th>75%</th>\n",
              "      <td>6.400000</td>\n",
              "      <td>3.300000</td>\n",
              "      <td>5.100000</td>\n",
              "      <td>1.800000</td>\n",
              "    </tr>\n",
              "    <tr>\n",
              "      <th>max</th>\n",
              "      <td>7.900000</td>\n",
              "      <td>4.400000</td>\n",
              "      <td>6.900000</td>\n",
              "      <td>2.500000</td>\n",
              "    </tr>\n",
              "  </tbody>\n",
              "</table>\n",
              "</div>"
            ],
            "text/plain": [
              "                0           1           2           3\n",
              "count  150.000000  150.000000  150.000000  150.000000\n",
              "mean     5.843333    3.054000    3.758667    1.198667\n",
              "std      0.828066    0.433594    1.764420    0.763161\n",
              "min      4.300000    2.000000    1.000000    0.100000\n",
              "25%      5.100000    2.800000    1.600000    0.300000\n",
              "50%      5.800000    3.000000    4.350000    1.300000\n",
              "75%      6.400000    3.300000    5.100000    1.800000\n",
              "max      7.900000    4.400000    6.900000    2.500000"
            ]
          },
          "metadata": {
            "tags": []
          },
          "execution_count": 49
        }
      ]
    },
    {
      "cell_type": "code",
      "metadata": {
        "id": "tCJUdsA3Y86c",
        "colab_type": "code",
        "outputId": "4fc114db-485b-4389-d676-dcdf4c7c46d4",
        "colab": {
          "base_uri": "https://localhost:8080/",
          "height": 119
        }
      },
      "source": [
        "# column data type\n",
        "df_iris.dtypes"
      ],
      "execution_count": 0,
      "outputs": [
        {
          "output_type": "execute_result",
          "data": {
            "text/plain": [
              "0    float64\n",
              "1    float64\n",
              "2    float64\n",
              "3    float64\n",
              "4     object\n",
              "dtype: object"
            ]
          },
          "metadata": {
            "tags": []
          },
          "execution_count": 50
        }
      ]
    },
    {
      "cell_type": "code",
      "metadata": {
        "id": "9SvF87Kva4Cz",
        "colab_type": "code",
        "outputId": "e2aa40ad-c812-49a9-b41f-92c6336be4bf",
        "colab": {
          "base_uri": "https://localhost:8080/",
          "height": 34
        }
      },
      "source": [
        "# index info\n",
        "df_iris.index"
      ],
      "execution_count": 0,
      "outputs": [
        {
          "output_type": "execute_result",
          "data": {
            "text/plain": [
              "RangeIndex(start=0, stop=150, step=1)"
            ]
          },
          "metadata": {
            "tags": []
          },
          "execution_count": 51
        }
      ]
    },
    {
      "cell_type": "code",
      "metadata": {
        "id": "Rh4iF57mZQz1",
        "colab_type": "code",
        "outputId": "3edff60b-ee97-4211-f831-720087a57619",
        "colab": {
          "base_uri": "https://localhost:8080/",
          "height": 80
        }
      },
      "source": [
        "# change column names\n",
        "attributes = [\"sepal_length\", \"sepal_width\", \"petal_length\", \"petal_width\", \"class\"]\n",
        "df_iris.columns = attributes\n",
        "\n",
        "df_iris.head(1)"
      ],
      "execution_count": 0,
      "outputs": [
        {
          "output_type": "execute_result",
          "data": {
            "text/html": [
              "<div>\n",
              "<style scoped>\n",
              "    .dataframe tbody tr th:only-of-type {\n",
              "        vertical-align: middle;\n",
              "    }\n",
              "\n",
              "    .dataframe tbody tr th {\n",
              "        vertical-align: top;\n",
              "    }\n",
              "\n",
              "    .dataframe thead th {\n",
              "        text-align: right;\n",
              "    }\n",
              "</style>\n",
              "<table border=\"1\" class=\"dataframe\">\n",
              "  <thead>\n",
              "    <tr style=\"text-align: right;\">\n",
              "      <th></th>\n",
              "      <th>sepal_length</th>\n",
              "      <th>sepal_width</th>\n",
              "      <th>petal_length</th>\n",
              "      <th>petal_width</th>\n",
              "      <th>class</th>\n",
              "    </tr>\n",
              "  </thead>\n",
              "  <tbody>\n",
              "    <tr>\n",
              "      <th>0</th>\n",
              "      <td>5.1</td>\n",
              "      <td>3.5</td>\n",
              "      <td>1.4</td>\n",
              "      <td>0.2</td>\n",
              "      <td>Iris-setosa</td>\n",
              "    </tr>\n",
              "  </tbody>\n",
              "</table>\n",
              "</div>"
            ],
            "text/plain": [
              "   sepal_length  sepal_width  petal_length  petal_width        class\n",
              "0           5.1          3.5           1.4          0.2  Iris-setosa"
            ]
          },
          "metadata": {
            "tags": []
          },
          "execution_count": 52
        }
      ]
    },
    {
      "cell_type": "markdown",
      "metadata": {
        "id": "Z0FucuXLih-b",
        "colab_type": "text"
      },
      "source": [
        "##### Indexing and Slicing"
      ]
    },
    {
      "cell_type": "code",
      "metadata": {
        "id": "L9KYxtpTioFa",
        "colab_type": "code",
        "outputId": "4072426c-5aed-43cf-c120-1a35fd70ae14",
        "colab": {
          "base_uri": "https://localhost:8080/",
          "height": 442
        }
      },
      "source": [
        "# use [] square brackets, only columns\n",
        "df1 = df_iris['sepal_length']\n",
        "print(df1.head())\n",
        "print(type(df1))\n",
        "\n",
        "df2 = df_iris[['sepal_length']]\n",
        "print(df2.head())\n",
        "print(type(df2))\n",
        "\n",
        "df3 = df_iris[['sepal_length', 'petal_length']]\n",
        "print(df3.head())\n",
        "print(type(df3))\n",
        "\n",
        "df4 = df_iris[1:3]\n",
        "print(df4)\n",
        "print(type(df4))\n"
      ],
      "execution_count": 0,
      "outputs": [
        {
          "output_type": "stream",
          "text": [
            "0    5.1\n",
            "1    4.9\n",
            "2    4.7\n",
            "3    4.6\n",
            "4    5.0\n",
            "Name: sepal_length, dtype: float64\n",
            "<class 'pandas.core.series.Series'>\n",
            "   sepal_length\n",
            "0           5.1\n",
            "1           4.9\n",
            "2           4.7\n",
            "3           4.6\n",
            "4           5.0\n",
            "<class 'pandas.core.frame.DataFrame'>\n",
            "   sepal_length  petal_length\n",
            "0           5.1           1.4\n",
            "1           4.9           1.4\n",
            "2           4.7           1.3\n",
            "3           4.6           1.5\n",
            "4           5.0           1.4\n",
            "<class 'pandas.core.frame.DataFrame'>\n",
            "   sepal_length  sepal_width  petal_length  petal_width        class\n",
            "1           4.9          3.0           1.4          0.2  Iris-setosa\n",
            "2           4.7          3.2           1.3          0.2  Iris-setosa\n",
            "<class 'pandas.core.frame.DataFrame'>\n"
          ],
          "name": "stdout"
        }
      ]
    },
    {
      "cell_type": "code",
      "metadata": {
        "id": "_e10vJ3NlHek",
        "colab_type": "code",
        "outputId": "794edcfc-8bb7-456d-b486-7e0ed26cc139",
        "colab": {
          "base_uri": "https://localhost:8080/",
          "height": 221
        }
      },
      "source": [
        "# selection by position, use iloc, endpoint is excluded\n",
        "df1 = df_iris.iloc[[3]]\n",
        "print(df1)\n",
        "print(type(df1))\n",
        "\n",
        "df2 = df_iris.iloc[3:5,0:2]\n",
        "print(df2)\n",
        "print(type(df2))\n",
        "\n",
        "df3 = df_iris.iloc[[1,2,4],[0,2]]\n",
        "print(df3)\n",
        "print(type(df3))\n"
      ],
      "execution_count": 0,
      "outputs": [
        {
          "output_type": "stream",
          "text": [
            "   sepal_length  sepal_width  petal_length  petal_width        class\n",
            "3           4.6          3.1           1.5          0.2  Iris-setosa\n",
            "<class 'pandas.core.frame.DataFrame'>\n",
            "   sepal_length  sepal_width\n",
            "3           4.6          3.1\n",
            "4           5.0          3.6\n",
            "<class 'pandas.core.frame.DataFrame'>\n",
            "   sepal_length  petal_length\n",
            "1           4.9           1.4\n",
            "2           4.7           1.3\n",
            "4           5.0           1.4\n",
            "<class 'pandas.core.frame.DataFrame'>\n"
          ],
          "name": "stdout"
        }
      ]
    },
    {
      "cell_type": "code",
      "metadata": {
        "id": "efRLhCOQjeEL",
        "colab_type": "code",
        "outputId": "4dfa6598-c57c-4458-b55b-659fad908674",
        "colab": {
          "base_uri": "https://localhost:8080/",
          "height": 272
        }
      },
      "source": [
        "# selection by lable, use loc , endpoint is included\n",
        "df1 = df_iris.loc[:, 'sepal_length']\n",
        "print(df1.head())\n",
        "print(type(df1))\n",
        "\n",
        "df2 = df_iris.loc[1:3, ['sepal_length']]\n",
        "print(df2.head())\n",
        "print(type(df2))\n",
        "\n",
        "df3 = df_iris.loc[[1, 3], ['sepal_length', 'petal_length']]\n",
        "print(df3)"
      ],
      "execution_count": 0,
      "outputs": [
        {
          "output_type": "stream",
          "text": [
            "0    5.1\n",
            "1    4.9\n",
            "2    4.7\n",
            "3    4.6\n",
            "4    5.0\n",
            "Name: sepal_length, dtype: float64\n",
            "<class 'pandas.core.series.Series'>\n",
            "   sepal_length\n",
            "1           4.9\n",
            "2           4.7\n",
            "3           4.6\n",
            "<class 'pandas.core.frame.DataFrame'>\n",
            "   sepal_length  petal_length\n",
            "1           4.9           1.4\n",
            "3           4.6           1.5\n"
          ],
          "name": "stdout"
        }
      ]
    },
    {
      "cell_type": "code",
      "metadata": {
        "id": "wYJXwqbulpB9",
        "colab_type": "code",
        "outputId": "dc844a28-b48c-46c0-a2b5-1ee45571e125",
        "colab": {
          "base_uri": "https://localhost:8080/",
          "height": 425
        }
      },
      "source": [
        "# boolean indexing\n",
        "df1 = df_iris[(df_iris['sepal_length'] > 6.0) & (df_iris.petal_length < 5.0)]\n",
        "#print(df1)\n",
        "\n",
        "df2 = df_iris.loc[(df_iris['sepal_length'] > 6.0) & (df_iris.petal_length < 5.0), ['sepal_width', 'petal_width']]\n",
        "df2 = df2.reset_index()\n",
        "print(df2)\n",
        "df2.index"
      ],
      "execution_count": 0,
      "outputs": [
        {
          "output_type": "stream",
          "text": [
            "    index  sepal_width  petal_width\n",
            "0      50          3.2          1.4\n",
            "1      51          3.2          1.5\n",
            "2      52          3.1          1.5\n",
            "3      54          2.8          1.5\n",
            "4      56          3.3          1.6\n",
            "5      58          2.9          1.3\n",
            "6      63          2.9          1.4\n",
            "7      65          3.1          1.4\n",
            "8      68          2.2          1.5\n",
            "9      71          2.8          1.3\n",
            "10     72          2.5          1.5\n",
            "11     73          2.8          1.2\n",
            "12     74          2.9          1.3\n",
            "13     75          3.0          1.4\n",
            "14     76          2.8          1.4\n",
            "15     86          3.1          1.5\n",
            "16     87          2.3          1.3\n",
            "17     91          3.0          1.4\n",
            "18     97          2.9          1.3\n",
            "19    123          2.7          1.8\n",
            "20    126          2.8          1.8\n",
            "21    127          3.0          1.8\n"
          ],
          "name": "stdout"
        },
        {
          "output_type": "execute_result",
          "data": {
            "text/plain": [
              "RangeIndex(start=0, stop=22, step=1)"
            ]
          },
          "metadata": {
            "tags": []
          },
          "execution_count": 56
        }
      ]
    },
    {
      "cell_type": "markdown",
      "metadata": {
        "id": "db3LysNdoG5T",
        "colab_type": "text"
      },
      "source": [
        "**Useful functions**\n",
        "\n",
        "apply, applymap, (lambda)"
      ]
    },
    {
      "cell_type": "code",
      "metadata": {
        "id": "CwF5JHrCsJtB",
        "colab_type": "code",
        "outputId": "d72c52cb-dce1-49e8-80d7-bbe02096b772",
        "colab": {
          "base_uri": "https://localhost:8080/",
          "height": 425
        }
      },
      "source": [
        "# Applying a function on 1D arrays to each column or row. \n",
        "# DataFrame’s apply method does exactly this\n",
        "# DataFrame.apply\n",
        "\n",
        "import numpy as np\n",
        "import pandas as pd\n",
        "\n",
        "df = pd.DataFrame(np.arange(12).reshape((4, 3)), columns=['a','b','c'], index=['Utah', 'Ohio', 'Texas', 'Oregon'])\n",
        "print(df)\n",
        "\n",
        "def func(col):\n",
        "  return col.max() - col.min()\n",
        "\n",
        "# use lambda function\n",
        "print('haluo')\n",
        "print(df.apply(lambda x: x.mean(), axis='index'))\n",
        "\n",
        "print('haluo2:')\n",
        "print(df.apply(lambda x: x.mean(), axis='columns'))\n",
        "\n",
        "\n",
        "# add a new column\n",
        "df['range'] = df[['a','b','c']].apply(func, axis='columns')\n",
        "print(df)\n",
        "\n",
        "# for some columns\n",
        "df[['a', 'b']].apply(sum, axis=0)\n",
        "\n"
      ],
      "execution_count": 0,
      "outputs": [
        {
          "output_type": "stream",
          "text": [
            "        a   b   c\n",
            "Utah    0   1   2\n",
            "Ohio    3   4   5\n",
            "Texas   6   7   8\n",
            "Oregon  9  10  11\n",
            "haluo\n",
            "a    4.5\n",
            "b    5.5\n",
            "c    6.5\n",
            "dtype: float64\n",
            "haluo2:\n",
            "Utah       1.0\n",
            "Ohio       4.0\n",
            "Texas      7.0\n",
            "Oregon    10.0\n",
            "dtype: float64\n",
            "        a   b   c  range\n",
            "Utah    0   1   2      2\n",
            "Ohio    3   4   5      2\n",
            "Texas   6   7   8      2\n",
            "Oregon  9  10  11      2\n"
          ],
          "name": "stdout"
        },
        {
          "output_type": "execute_result",
          "data": {
            "text/plain": [
              "a    18\n",
              "b    22\n",
              "dtype: int64"
            ]
          },
          "metadata": {
            "tags": []
          },
          "execution_count": 57
        }
      ]
    },
    {
      "cell_type": "code",
      "metadata": {
        "id": "Iv7TXdYXWpal",
        "colab_type": "code",
        "outputId": "4b7497f2-43b5-4b42-c3ad-df8680f4fdbe",
        "colab": {
          "base_uri": "https://localhost:8080/",
          "height": 102
        }
      },
      "source": [
        "# Many of the most common array statistics (like sum and mean) are DataFrame methods, so using apply is not necessary.\n",
        "# Element-wise Python functions can be used, too. \n",
        "# Suppose you wanted to compute a formatted string from each floating point value in frame. \n",
        "# You can do this with applymap\n",
        "# DataFrame.applymap\n",
        "\n",
        "df = pd.DataFrame(np.arange(12).reshape((4, 3)), columns=list('abc'), index=['Utah', 'Ohio', 'Texas', 'Oregon'])\n",
        "print(df.applymap(lambda x: x**2))"
      ],
      "execution_count": 0,
      "outputs": [
        {
          "output_type": "stream",
          "text": [
            "         a    b    c\n",
            "Utah     0    1    4\n",
            "Ohio     9   16   25\n",
            "Texas   36   49   64\n",
            "Oregon  81  100  121\n"
          ],
          "name": "stdout"
        }
      ]
    },
    {
      "cell_type": "code",
      "metadata": {
        "id": "vWI9tb1DDob2",
        "colab_type": "code",
        "outputId": "531847c2-37c2-440f-d23f-ed160f3a63f2",
        "colab": {
          "base_uri": "https://localhost:8080/",
          "height": 204
        }
      },
      "source": [
        "# Get the starting year and change it to datetime type\n",
        "def base_year(year):\n",
        "    base_year = year[:4]\n",
        "    base_year= pd.to_datetime(base_year).year\n",
        "    return base_year\n",
        "\n",
        "df_uk_rain['year'] = df_uk_rain.water_year.apply(base_year)\n",
        "df_uk_rain.head(5)"
      ],
      "execution_count": 0,
      "outputs": [
        {
          "output_type": "execute_result",
          "data": {
            "text/html": [
              "<div>\n",
              "<style scoped>\n",
              "    .dataframe tbody tr th:only-of-type {\n",
              "        vertical-align: middle;\n",
              "    }\n",
              "\n",
              "    .dataframe tbody tr th {\n",
              "        vertical-align: top;\n",
              "    }\n",
              "\n",
              "    .dataframe thead th {\n",
              "        text-align: right;\n",
              "    }\n",
              "</style>\n",
              "<table border=\"1\" class=\"dataframe\">\n",
              "  <thead>\n",
              "    <tr style=\"text-align: right;\">\n",
              "      <th></th>\n",
              "      <th>water_year</th>\n",
              "      <th>rain_octsep</th>\n",
              "      <th>outflow_octsep</th>\n",
              "      <th>rain_decfeb</th>\n",
              "      <th>outflow_decfeb</th>\n",
              "      <th>rain_junaug</th>\n",
              "      <th>outflow_junaug</th>\n",
              "      <th>year</th>\n",
              "    </tr>\n",
              "  </thead>\n",
              "  <tbody>\n",
              "    <tr>\n",
              "      <th>0</th>\n",
              "      <td>1980/81</td>\n",
              "      <td>1182</td>\n",
              "      <td>5408</td>\n",
              "      <td>292</td>\n",
              "      <td>7248</td>\n",
              "      <td>174</td>\n",
              "      <td>2212</td>\n",
              "      <td>1980</td>\n",
              "    </tr>\n",
              "    <tr>\n",
              "      <th>1</th>\n",
              "      <td>1981/82</td>\n",
              "      <td>1098</td>\n",
              "      <td>5112</td>\n",
              "      <td>257</td>\n",
              "      <td>7316</td>\n",
              "      <td>242</td>\n",
              "      <td>1936</td>\n",
              "      <td>1981</td>\n",
              "    </tr>\n",
              "    <tr>\n",
              "      <th>2</th>\n",
              "      <td>1982/83</td>\n",
              "      <td>1156</td>\n",
              "      <td>5701</td>\n",
              "      <td>330</td>\n",
              "      <td>8567</td>\n",
              "      <td>124</td>\n",
              "      <td>1802</td>\n",
              "      <td>1982</td>\n",
              "    </tr>\n",
              "    <tr>\n",
              "      <th>3</th>\n",
              "      <td>1983/84</td>\n",
              "      <td>993</td>\n",
              "      <td>4265</td>\n",
              "      <td>391</td>\n",
              "      <td>8905</td>\n",
              "      <td>141</td>\n",
              "      <td>1078</td>\n",
              "      <td>1983</td>\n",
              "    </tr>\n",
              "    <tr>\n",
              "      <th>4</th>\n",
              "      <td>1984/85</td>\n",
              "      <td>1182</td>\n",
              "      <td>5364</td>\n",
              "      <td>217</td>\n",
              "      <td>5813</td>\n",
              "      <td>343</td>\n",
              "      <td>4313</td>\n",
              "      <td>1984</td>\n",
              "    </tr>\n",
              "  </tbody>\n",
              "</table>\n",
              "</div>"
            ],
            "text/plain": [
              "  water_year  rain_octsep  outflow_octsep  ...  rain_junaug  outflow_junaug  year\n",
              "0    1980/81         1182            5408  ...          174            2212  1980\n",
              "1    1981/82         1098            5112  ...          242            1936  1981\n",
              "2    1982/83         1156            5701  ...          124            1802  1982\n",
              "3    1983/84          993            4265  ...          141            1078  1983\n",
              "4    1984/85         1182            5364  ...          343            4313  1984\n",
              "\n",
              "[5 rows x 8 columns]"
            ]
          },
          "metadata": {
            "tags": []
          },
          "execution_count": 59
        }
      ]
    },
    {
      "cell_type": "markdown",
      "metadata": {
        "id": "5U8R66Rnos4u",
        "colab_type": "text"
      },
      "source": [
        "#### Merging\n",
        "\n",
        "Read this [document](https://pandas.pydata.org/pandas-docs/stable/merging.html) for more info\n"
      ]
    },
    {
      "cell_type": "code",
      "metadata": {
        "id": "EMPg7rWn06Fo",
        "colab_type": "code",
        "outputId": "46fe2b1f-bee4-40e5-cb6a-3725f8911776",
        "colab": {
          "base_uri": "https://localhost:8080/",
          "height": 442
        }
      },
      "source": [
        "# two dataframe join or concatenate\n",
        "df_right=pd.DataFrame({'year':np.arange(1980,1990),'rain_cn':np.arange(800,810)})\n",
        "print(df_right)\n",
        "df_right2=pd.DataFrame({'year': [900], 'rain_cn': [1800]})\n",
        "print(df_right2)\n",
        "df_right=pd.concat([df_right, df_right2])\n",
        "print(df_right)\n"
      ],
      "execution_count": 0,
      "outputs": [
        {
          "output_type": "stream",
          "text": [
            "   year  rain_cn\n",
            "0  1980      800\n",
            "1  1981      801\n",
            "2  1982      802\n",
            "3  1983      803\n",
            "4  1984      804\n",
            "5  1985      805\n",
            "6  1986      806\n",
            "7  1987      807\n",
            "8  1988      808\n",
            "9  1989      809\n",
            "   year  rain_cn\n",
            "0   900     1800\n",
            "   year  rain_cn\n",
            "0  1980      800\n",
            "1  1981      801\n",
            "2  1982      802\n",
            "3  1983      803\n",
            "4  1984      804\n",
            "5  1985      805\n",
            "6  1986      806\n",
            "7  1987      807\n",
            "8  1988      808\n",
            "9  1989      809\n",
            "0   900     1800\n"
          ],
          "name": "stdout"
        }
      ]
    },
    {
      "cell_type": "code",
      "metadata": {
        "id": "1JAQs-D9Leb-",
        "colab_type": "code",
        "outputId": "922560d8-cbab-4a83-b9b6-258ba2e784b2",
        "colab": {
          "base_uri": "https://localhost:8080/",
          "height": 238
        }
      },
      "source": [
        "# SQL like inner join:\n",
        "df_join=pd.merge(df_uk_rain, df_right, left_on='year',right_on='year',how='inner')\n",
        "print(df_join)"
      ],
      "execution_count": 0,
      "outputs": [
        {
          "output_type": "stream",
          "text": [
            "  water_year  rain_octsep  outflow_octsep  ...  outflow_junaug  year  rain_cn\n",
            "0    1980/81         1182            5408  ...            2212  1980      800\n",
            "1    1981/82         1098            5112  ...            1936  1981      801\n",
            "2    1982/83         1156            5701  ...            1802  1982      802\n",
            "3    1983/84          993            4265  ...            1078  1983      803\n",
            "4    1984/85         1182            5364  ...            4313  1984      804\n",
            "5    1985/86         1027            4991  ...            2595  1985      805\n",
            "6    1986/87         1151            5196  ...            2826  1986      806\n",
            "7    1987/88         1210            5572  ...            3154  1987      807\n",
            "8    1988/89          976            4330  ...            1440  1988      808\n",
            "9    1989/90         1130            4973  ...            1740  1989      809\n",
            "\n",
            "[10 rows x 9 columns]\n"
          ],
          "name": "stdout"
        }
      ]
    },
    {
      "cell_type": "code",
      "metadata": {
        "id": "Kww-l-kgLv8e",
        "colab_type": "code",
        "outputId": "b9414f3d-c35c-4c2b-e68b-9518822f5719",
        "colab": {
          "base_uri": "https://localhost:8080/",
          "height": 204
        }
      },
      "source": [
        "# SQL like left join\n",
        "df_left_join=pd.merge(df_uk_rain, df_right, left_on='year',right_on='year', how='left') # left_on, right_on\n",
        "df_left_join.head()"
      ],
      "execution_count": 0,
      "outputs": [
        {
          "output_type": "execute_result",
          "data": {
            "text/html": [
              "<div>\n",
              "<style scoped>\n",
              "    .dataframe tbody tr th:only-of-type {\n",
              "        vertical-align: middle;\n",
              "    }\n",
              "\n",
              "    .dataframe tbody tr th {\n",
              "        vertical-align: top;\n",
              "    }\n",
              "\n",
              "    .dataframe thead th {\n",
              "        text-align: right;\n",
              "    }\n",
              "</style>\n",
              "<table border=\"1\" class=\"dataframe\">\n",
              "  <thead>\n",
              "    <tr style=\"text-align: right;\">\n",
              "      <th></th>\n",
              "      <th>water_year</th>\n",
              "      <th>rain_octsep</th>\n",
              "      <th>outflow_octsep</th>\n",
              "      <th>rain_decfeb</th>\n",
              "      <th>outflow_decfeb</th>\n",
              "      <th>rain_junaug</th>\n",
              "      <th>outflow_junaug</th>\n",
              "      <th>year</th>\n",
              "      <th>rain_cn</th>\n",
              "    </tr>\n",
              "  </thead>\n",
              "  <tbody>\n",
              "    <tr>\n",
              "      <th>0</th>\n",
              "      <td>1980/81</td>\n",
              "      <td>1182</td>\n",
              "      <td>5408</td>\n",
              "      <td>292</td>\n",
              "      <td>7248</td>\n",
              "      <td>174</td>\n",
              "      <td>2212</td>\n",
              "      <td>1980</td>\n",
              "      <td>800.0</td>\n",
              "    </tr>\n",
              "    <tr>\n",
              "      <th>1</th>\n",
              "      <td>1981/82</td>\n",
              "      <td>1098</td>\n",
              "      <td>5112</td>\n",
              "      <td>257</td>\n",
              "      <td>7316</td>\n",
              "      <td>242</td>\n",
              "      <td>1936</td>\n",
              "      <td>1981</td>\n",
              "      <td>801.0</td>\n",
              "    </tr>\n",
              "    <tr>\n",
              "      <th>2</th>\n",
              "      <td>1982/83</td>\n",
              "      <td>1156</td>\n",
              "      <td>5701</td>\n",
              "      <td>330</td>\n",
              "      <td>8567</td>\n",
              "      <td>124</td>\n",
              "      <td>1802</td>\n",
              "      <td>1982</td>\n",
              "      <td>802.0</td>\n",
              "    </tr>\n",
              "    <tr>\n",
              "      <th>3</th>\n",
              "      <td>1983/84</td>\n",
              "      <td>993</td>\n",
              "      <td>4265</td>\n",
              "      <td>391</td>\n",
              "      <td>8905</td>\n",
              "      <td>141</td>\n",
              "      <td>1078</td>\n",
              "      <td>1983</td>\n",
              "      <td>803.0</td>\n",
              "    </tr>\n",
              "    <tr>\n",
              "      <th>4</th>\n",
              "      <td>1984/85</td>\n",
              "      <td>1182</td>\n",
              "      <td>5364</td>\n",
              "      <td>217</td>\n",
              "      <td>5813</td>\n",
              "      <td>343</td>\n",
              "      <td>4313</td>\n",
              "      <td>1984</td>\n",
              "      <td>804.0</td>\n",
              "    </tr>\n",
              "  </tbody>\n",
              "</table>\n",
              "</div>"
            ],
            "text/plain": [
              "  water_year  rain_octsep  outflow_octsep  ...  outflow_junaug  year  rain_cn\n",
              "0    1980/81         1182            5408  ...            2212  1980    800.0\n",
              "1    1981/82         1098            5112  ...            1936  1981    801.0\n",
              "2    1982/83         1156            5701  ...            1802  1982    802.0\n",
              "3    1983/84          993            4265  ...            1078  1983    803.0\n",
              "4    1984/85         1182            5364  ...            4313  1984    804.0\n",
              "\n",
              "[5 rows x 9 columns]"
            ]
          },
          "metadata": {
            "tags": []
          },
          "execution_count": 62
        }
      ]
    },
    {
      "cell_type": "code",
      "metadata": {
        "id": "y_o3y7WU22zN",
        "colab_type": "code",
        "outputId": "fa7091d2-6bc2-42ad-bdbe-51ae3ddceab2",
        "colab": {
          "base_uri": "https://localhost:8080/",
          "height": 204
        }
      },
      "source": [
        "from pandasql import sqldf\n",
        "\n",
        "def pysqldf(q):\n",
        "  return sqldf(q, globals())\n",
        "\n",
        "q = '''\n",
        "SELECT * \n",
        "FROM df_uk_rain a LEFT JOIN df_right b\n",
        "ON a.year = b.year\n",
        "LIMIT 5\n",
        "'''\n",
        "\n",
        "pysqldf(q)\n"
      ],
      "execution_count": 0,
      "outputs": [
        {
          "output_type": "execute_result",
          "data": {
            "text/html": [
              "<div>\n",
              "<style scoped>\n",
              "    .dataframe tbody tr th:only-of-type {\n",
              "        vertical-align: middle;\n",
              "    }\n",
              "\n",
              "    .dataframe tbody tr th {\n",
              "        vertical-align: top;\n",
              "    }\n",
              "\n",
              "    .dataframe thead th {\n",
              "        text-align: right;\n",
              "    }\n",
              "</style>\n",
              "<table border=\"1\" class=\"dataframe\">\n",
              "  <thead>\n",
              "    <tr style=\"text-align: right;\">\n",
              "      <th></th>\n",
              "      <th>water_year</th>\n",
              "      <th>rain_octsep</th>\n",
              "      <th>outflow_octsep</th>\n",
              "      <th>rain_decfeb</th>\n",
              "      <th>outflow_decfeb</th>\n",
              "      <th>rain_junaug</th>\n",
              "      <th>outflow_junaug</th>\n",
              "      <th>year</th>\n",
              "      <th>year</th>\n",
              "      <th>rain_cn</th>\n",
              "    </tr>\n",
              "  </thead>\n",
              "  <tbody>\n",
              "    <tr>\n",
              "      <th>0</th>\n",
              "      <td>1980/81</td>\n",
              "      <td>1182</td>\n",
              "      <td>5408</td>\n",
              "      <td>292</td>\n",
              "      <td>7248</td>\n",
              "      <td>174</td>\n",
              "      <td>2212</td>\n",
              "      <td>1980</td>\n",
              "      <td>1980</td>\n",
              "      <td>800</td>\n",
              "    </tr>\n",
              "    <tr>\n",
              "      <th>1</th>\n",
              "      <td>1981/82</td>\n",
              "      <td>1098</td>\n",
              "      <td>5112</td>\n",
              "      <td>257</td>\n",
              "      <td>7316</td>\n",
              "      <td>242</td>\n",
              "      <td>1936</td>\n",
              "      <td>1981</td>\n",
              "      <td>1981</td>\n",
              "      <td>801</td>\n",
              "    </tr>\n",
              "    <tr>\n",
              "      <th>2</th>\n",
              "      <td>1982/83</td>\n",
              "      <td>1156</td>\n",
              "      <td>5701</td>\n",
              "      <td>330</td>\n",
              "      <td>8567</td>\n",
              "      <td>124</td>\n",
              "      <td>1802</td>\n",
              "      <td>1982</td>\n",
              "      <td>1982</td>\n",
              "      <td>802</td>\n",
              "    </tr>\n",
              "    <tr>\n",
              "      <th>3</th>\n",
              "      <td>1983/84</td>\n",
              "      <td>993</td>\n",
              "      <td>4265</td>\n",
              "      <td>391</td>\n",
              "      <td>8905</td>\n",
              "      <td>141</td>\n",
              "      <td>1078</td>\n",
              "      <td>1983</td>\n",
              "      <td>1983</td>\n",
              "      <td>803</td>\n",
              "    </tr>\n",
              "    <tr>\n",
              "      <th>4</th>\n",
              "      <td>1984/85</td>\n",
              "      <td>1182</td>\n",
              "      <td>5364</td>\n",
              "      <td>217</td>\n",
              "      <td>5813</td>\n",
              "      <td>343</td>\n",
              "      <td>4313</td>\n",
              "      <td>1984</td>\n",
              "      <td>1984</td>\n",
              "      <td>804</td>\n",
              "    </tr>\n",
              "  </tbody>\n",
              "</table>\n",
              "</div>"
            ],
            "text/plain": [
              "  water_year  rain_octsep  outflow_octsep  ...  year  year  rain_cn\n",
              "0    1980/81         1182            5408  ...  1980  1980      800\n",
              "1    1981/82         1098            5112  ...  1981  1981      801\n",
              "2    1982/83         1156            5701  ...  1982  1982      802\n",
              "3    1983/84          993            4265  ...  1983  1983      803\n",
              "4    1984/85         1182            5364  ...  1984  1984      804\n",
              "\n",
              "[5 rows x 10 columns]"
            ]
          },
          "metadata": {
            "tags": []
          },
          "execution_count": 63
        }
      ]
    },
    {
      "cell_type": "markdown",
      "metadata": {
        "id": "01PXGrp2oQuZ",
        "colab_type": "text"
      },
      "source": [
        "#### Grouping\n",
        "\n",
        "Read this [document](https://pandas.pydata.org/pandas-docs/stable/groupby.html) for more info"
      ]
    },
    {
      "cell_type": "code",
      "metadata": {
        "id": "7vVGllv1F42Z",
        "colab_type": "code",
        "outputId": "9c203314-f97a-4ccf-e740-add698ce3db6",
        "colab": {
          "base_uri": "https://localhost:8080/",
          "height": 204
        }
      },
      "source": [
        "# groupby: similar to SQL groupby\n",
        "df_uk_rain.groupby(df_uk_rain['year'] // 10 *10)['rain_octsep','outflow_octsep','rain_decfeb'].max()"
      ],
      "execution_count": 0,
      "outputs": [
        {
          "output_type": "execute_result",
          "data": {
            "text/html": [
              "<div>\n",
              "<style scoped>\n",
              "    .dataframe tbody tr th:only-of-type {\n",
              "        vertical-align: middle;\n",
              "    }\n",
              "\n",
              "    .dataframe tbody tr th {\n",
              "        vertical-align: top;\n",
              "    }\n",
              "\n",
              "    .dataframe thead th {\n",
              "        text-align: right;\n",
              "    }\n",
              "</style>\n",
              "<table border=\"1\" class=\"dataframe\">\n",
              "  <thead>\n",
              "    <tr style=\"text-align: right;\">\n",
              "      <th></th>\n",
              "      <th>rain_octsep</th>\n",
              "      <th>outflow_octsep</th>\n",
              "      <th>rain_decfeb</th>\n",
              "    </tr>\n",
              "    <tr>\n",
              "      <th>year</th>\n",
              "      <th></th>\n",
              "      <th></th>\n",
              "      <th></th>\n",
              "    </tr>\n",
              "  </thead>\n",
              "  <tbody>\n",
              "    <tr>\n",
              "      <th>1980</th>\n",
              "      <td>1210</td>\n",
              "      <td>5701</td>\n",
              "      <td>470</td>\n",
              "    </tr>\n",
              "    <tr>\n",
              "      <th>1990</th>\n",
              "      <td>1268</td>\n",
              "      <td>5824</td>\n",
              "      <td>484</td>\n",
              "    </tr>\n",
              "    <tr>\n",
              "      <th>2000</th>\n",
              "      <td>1387</td>\n",
              "      <td>6391</td>\n",
              "      <td>437</td>\n",
              "    </tr>\n",
              "    <tr>\n",
              "      <th>2010</th>\n",
              "      <td>1285</td>\n",
              "      <td>5500</td>\n",
              "      <td>350</td>\n",
              "    </tr>\n",
              "  </tbody>\n",
              "</table>\n",
              "</div>"
            ],
            "text/plain": [
              "      rain_octsep  outflow_octsep  rain_decfeb\n",
              "year                                          \n",
              "1980         1210            5701          470\n",
              "1990         1268            5824          484\n",
              "2000         1387            6391          437\n",
              "2010         1285            5500          350"
            ]
          },
          "metadata": {
            "tags": []
          },
          "execution_count": 64
        }
      ]
    },
    {
      "cell_type": "code",
      "metadata": {
        "id": "zT-mSLS4K6LJ",
        "colab_type": "code",
        "outputId": "a7ee40e9-a064-46c0-bd26-b01a70de4a86",
        "colab": {
          "base_uri": "https://localhost:8080/",
          "height": 266
        }
      },
      "source": [
        "# groupby multiple columns\n",
        "df_uk_rain.groupby([df_uk_rain.year // 10 * 10, df_uk_rain['rain_octsep'] // 1000 * 1000], as_index=True)[['outflow_octsep','outflow_decfeb', 'outflow_junaug'] ].mean()"
      ],
      "execution_count": 0,
      "outputs": [
        {
          "output_type": "execute_result",
          "data": {
            "text/html": [
              "<div>\n",
              "<style scoped>\n",
              "    .dataframe tbody tr th:only-of-type {\n",
              "        vertical-align: middle;\n",
              "    }\n",
              "\n",
              "    .dataframe tbody tr th {\n",
              "        vertical-align: top;\n",
              "    }\n",
              "\n",
              "    .dataframe thead th {\n",
              "        text-align: right;\n",
              "    }\n",
              "</style>\n",
              "<table border=\"1\" class=\"dataframe\">\n",
              "  <thead>\n",
              "    <tr style=\"text-align: right;\">\n",
              "      <th></th>\n",
              "      <th></th>\n",
              "      <th>outflow_octsep</th>\n",
              "      <th>outflow_decfeb</th>\n",
              "      <th>outflow_junaug</th>\n",
              "    </tr>\n",
              "    <tr>\n",
              "      <th>year</th>\n",
              "      <th>rain_octsep</th>\n",
              "      <th></th>\n",
              "      <th></th>\n",
              "      <th></th>\n",
              "    </tr>\n",
              "  </thead>\n",
              "  <tbody>\n",
              "    <tr>\n",
              "      <th rowspan=\"2\" valign=\"top\">1980</th>\n",
              "      <th>0</th>\n",
              "      <td>4297.500000</td>\n",
              "      <td>7685.000000</td>\n",
              "      <td>1259.000000</td>\n",
              "    </tr>\n",
              "    <tr>\n",
              "      <th>1000</th>\n",
              "      <td>5289.625000</td>\n",
              "      <td>7933.000000</td>\n",
              "      <td>2572.250000</td>\n",
              "    </tr>\n",
              "    <tr>\n",
              "      <th rowspan=\"2\" valign=\"top\">1990</th>\n",
              "      <th>0</th>\n",
              "      <td>3479.000000</td>\n",
              "      <td>5515.000000</td>\n",
              "      <td>1439.000000</td>\n",
              "    </tr>\n",
              "    <tr>\n",
              "      <th>1000</th>\n",
              "      <td>5064.888889</td>\n",
              "      <td>8363.111111</td>\n",
              "      <td>2130.555556</td>\n",
              "    </tr>\n",
              "    <tr>\n",
              "      <th>2000</th>\n",
              "      <th>1000</th>\n",
              "      <td>5030.800000</td>\n",
              "      <td>7812.100000</td>\n",
              "      <td>2685.900000</td>\n",
              "    </tr>\n",
              "    <tr>\n",
              "      <th>2010</th>\n",
              "      <th>1000</th>\n",
              "      <td>5116.666667</td>\n",
              "      <td>7946.000000</td>\n",
              "      <td>3314.333333</td>\n",
              "    </tr>\n",
              "  </tbody>\n",
              "</table>\n",
              "</div>"
            ],
            "text/plain": [
              "                  outflow_octsep  outflow_decfeb  outflow_junaug\n",
              "year rain_octsep                                                \n",
              "1980 0               4297.500000     7685.000000     1259.000000\n",
              "     1000            5289.625000     7933.000000     2572.250000\n",
              "1990 0               3479.000000     5515.000000     1439.000000\n",
              "     1000            5064.888889     8363.111111     2130.555556\n",
              "2000 1000            5030.800000     7812.100000     2685.900000\n",
              "2010 1000            5116.666667     7946.000000     3314.333333"
            ]
          },
          "metadata": {
            "tags": []
          },
          "execution_count": 65
        }
      ]
    },
    {
      "cell_type": "code",
      "metadata": {
        "id": "-mzsy6DbKaXU",
        "colab_type": "code",
        "outputId": "89761105-9ce7-4f46-94d3-d624ea3bfd7b",
        "colab": {
          "base_uri": "https://localhost:8080/",
          "height": 173
        }
      },
      "source": [
        "# groupby + apply + lambda\n",
        "df_uk_rain.groupby(df_uk_rain.year // 10 *10)['rain_octsep','outflow_octsep','rain_decfeb'].apply(lambda x: np.max(x, axis=0)).reset_index() # same result as first groupby example except index"
      ],
      "execution_count": 0,
      "outputs": [
        {
          "output_type": "execute_result",
          "data": {
            "text/html": [
              "<div>\n",
              "<style scoped>\n",
              "    .dataframe tbody tr th:only-of-type {\n",
              "        vertical-align: middle;\n",
              "    }\n",
              "\n",
              "    .dataframe tbody tr th {\n",
              "        vertical-align: top;\n",
              "    }\n",
              "\n",
              "    .dataframe thead th {\n",
              "        text-align: right;\n",
              "    }\n",
              "</style>\n",
              "<table border=\"1\" class=\"dataframe\">\n",
              "  <thead>\n",
              "    <tr style=\"text-align: right;\">\n",
              "      <th></th>\n",
              "      <th>year</th>\n",
              "      <th>rain_octsep</th>\n",
              "      <th>outflow_octsep</th>\n",
              "      <th>rain_decfeb</th>\n",
              "    </tr>\n",
              "  </thead>\n",
              "  <tbody>\n",
              "    <tr>\n",
              "      <th>0</th>\n",
              "      <td>1980</td>\n",
              "      <td>1210</td>\n",
              "      <td>5701</td>\n",
              "      <td>470</td>\n",
              "    </tr>\n",
              "    <tr>\n",
              "      <th>1</th>\n",
              "      <td>1990</td>\n",
              "      <td>1268</td>\n",
              "      <td>5824</td>\n",
              "      <td>484</td>\n",
              "    </tr>\n",
              "    <tr>\n",
              "      <th>2</th>\n",
              "      <td>2000</td>\n",
              "      <td>1387</td>\n",
              "      <td>6391</td>\n",
              "      <td>437</td>\n",
              "    </tr>\n",
              "    <tr>\n",
              "      <th>3</th>\n",
              "      <td>2010</td>\n",
              "      <td>1285</td>\n",
              "      <td>5500</td>\n",
              "      <td>350</td>\n",
              "    </tr>\n",
              "  </tbody>\n",
              "</table>\n",
              "</div>"
            ],
            "text/plain": [
              "   year  rain_octsep  outflow_octsep  rain_decfeb\n",
              "0  1980         1210            5701          470\n",
              "1  1990         1268            5824          484\n",
              "2  2000         1387            6391          437\n",
              "3  2010         1285            5500          350"
            ]
          },
          "metadata": {
            "tags": []
          },
          "execution_count": 66
        }
      ]
    },
    {
      "cell_type": "markdown",
      "metadata": {
        "id": "Dd02UQsPpAqj",
        "colab_type": "text"
      },
      "source": [
        "## Data Preprocessing\n",
        "\n",
        "\n",
        "*   Duplication\n",
        "*   Outlier\n",
        "*   Missing Value\n",
        "\n"
      ]
    },
    {
      "cell_type": "markdown",
      "metadata": {
        "id": "CeIfwpXTSsC2",
        "colab_type": "text"
      },
      "source": [
        "### Duplication"
      ]
    },
    {
      "cell_type": "code",
      "metadata": {
        "id": "LTn0EQXbp2Hs",
        "colab_type": "code",
        "outputId": "28e03641-bd4c-4cef-a359-fc23d5852aa7",
        "colab": {
          "base_uri": "https://localhost:8080/",
          "height": 204
        }
      },
      "source": [
        "df_uk_rain.head()"
      ],
      "execution_count": 0,
      "outputs": [
        {
          "output_type": "execute_result",
          "data": {
            "text/html": [
              "<div>\n",
              "<style scoped>\n",
              "    .dataframe tbody tr th:only-of-type {\n",
              "        vertical-align: middle;\n",
              "    }\n",
              "\n",
              "    .dataframe tbody tr th {\n",
              "        vertical-align: top;\n",
              "    }\n",
              "\n",
              "    .dataframe thead th {\n",
              "        text-align: right;\n",
              "    }\n",
              "</style>\n",
              "<table border=\"1\" class=\"dataframe\">\n",
              "  <thead>\n",
              "    <tr style=\"text-align: right;\">\n",
              "      <th></th>\n",
              "      <th>water_year</th>\n",
              "      <th>rain_octsep</th>\n",
              "      <th>outflow_octsep</th>\n",
              "      <th>rain_decfeb</th>\n",
              "      <th>outflow_decfeb</th>\n",
              "      <th>rain_junaug</th>\n",
              "      <th>outflow_junaug</th>\n",
              "      <th>year</th>\n",
              "    </tr>\n",
              "  </thead>\n",
              "  <tbody>\n",
              "    <tr>\n",
              "      <th>0</th>\n",
              "      <td>1980/81</td>\n",
              "      <td>1182</td>\n",
              "      <td>5408</td>\n",
              "      <td>292</td>\n",
              "      <td>7248</td>\n",
              "      <td>174</td>\n",
              "      <td>2212</td>\n",
              "      <td>1980</td>\n",
              "    </tr>\n",
              "    <tr>\n",
              "      <th>1</th>\n",
              "      <td>1981/82</td>\n",
              "      <td>1098</td>\n",
              "      <td>5112</td>\n",
              "      <td>257</td>\n",
              "      <td>7316</td>\n",
              "      <td>242</td>\n",
              "      <td>1936</td>\n",
              "      <td>1981</td>\n",
              "    </tr>\n",
              "    <tr>\n",
              "      <th>2</th>\n",
              "      <td>1982/83</td>\n",
              "      <td>1156</td>\n",
              "      <td>5701</td>\n",
              "      <td>330</td>\n",
              "      <td>8567</td>\n",
              "      <td>124</td>\n",
              "      <td>1802</td>\n",
              "      <td>1982</td>\n",
              "    </tr>\n",
              "    <tr>\n",
              "      <th>3</th>\n",
              "      <td>1983/84</td>\n",
              "      <td>993</td>\n",
              "      <td>4265</td>\n",
              "      <td>391</td>\n",
              "      <td>8905</td>\n",
              "      <td>141</td>\n",
              "      <td>1078</td>\n",
              "      <td>1983</td>\n",
              "    </tr>\n",
              "    <tr>\n",
              "      <th>4</th>\n",
              "      <td>1984/85</td>\n",
              "      <td>1182</td>\n",
              "      <td>5364</td>\n",
              "      <td>217</td>\n",
              "      <td>5813</td>\n",
              "      <td>343</td>\n",
              "      <td>4313</td>\n",
              "      <td>1984</td>\n",
              "    </tr>\n",
              "  </tbody>\n",
              "</table>\n",
              "</div>"
            ],
            "text/plain": [
              "  water_year  rain_octsep  outflow_octsep  ...  rain_junaug  outflow_junaug  year\n",
              "0    1980/81         1182            5408  ...          174            2212  1980\n",
              "1    1981/82         1098            5112  ...          242            1936  1981\n",
              "2    1982/83         1156            5701  ...          124            1802  1982\n",
              "3    1983/84          993            4265  ...          141            1078  1983\n",
              "4    1984/85         1182            5364  ...          343            4313  1984\n",
              "\n",
              "[5 rows x 8 columns]"
            ]
          },
          "metadata": {
            "tags": []
          },
          "execution_count": 87
        }
      ]
    },
    {
      "cell_type": "code",
      "metadata": {
        "id": "P-AhBupVMWfu",
        "colab_type": "code",
        "outputId": "6f4ce30c-4ac2-4e6e-8ab9-94361875fee1",
        "colab": {
          "base_uri": "https://localhost:8080/",
          "height": 49
        }
      },
      "source": [
        "# check if a column has duplicates\n",
        "df_uk_rain.iloc[np.where(df_uk_rain[['water_year', 'rain_octsep']].duplicated())]"
      ],
      "execution_count": 0,
      "outputs": [
        {
          "output_type": "execute_result",
          "data": {
            "text/html": [
              "<div>\n",
              "<style scoped>\n",
              "    .dataframe tbody tr th:only-of-type {\n",
              "        vertical-align: middle;\n",
              "    }\n",
              "\n",
              "    .dataframe tbody tr th {\n",
              "        vertical-align: top;\n",
              "    }\n",
              "\n",
              "    .dataframe thead th {\n",
              "        text-align: right;\n",
              "    }\n",
              "</style>\n",
              "<table border=\"1\" class=\"dataframe\">\n",
              "  <thead>\n",
              "    <tr style=\"text-align: right;\">\n",
              "      <th></th>\n",
              "      <th>water_year</th>\n",
              "      <th>rain_octsep</th>\n",
              "      <th>outflow_octsep</th>\n",
              "      <th>rain_decfeb</th>\n",
              "      <th>outflow_decfeb</th>\n",
              "      <th>rain_junaug</th>\n",
              "      <th>outflow_junaug</th>\n",
              "      <th>year</th>\n",
              "    </tr>\n",
              "  </thead>\n",
              "  <tbody>\n",
              "  </tbody>\n",
              "</table>\n",
              "</div>"
            ],
            "text/plain": [
              "Empty DataFrame\n",
              "Columns: [water_year, rain_octsep, outflow_octsep, rain_decfeb, outflow_decfeb, rain_junaug, outflow_junaug, year]\n",
              "Index: []"
            ]
          },
          "metadata": {
            "tags": []
          },
          "execution_count": 69
        }
      ]
    },
    {
      "cell_type": "code",
      "metadata": {
        "id": "vlcZoqR3Vo69",
        "colab_type": "code",
        "outputId": "bed75844-995f-47fa-f3f8-b33ad6879657",
        "colab": {
          "base_uri": "https://localhost:8080/",
          "height": 34
        }
      },
      "source": [
        "np.where(df_uk_rain.rain_octsep.duplicated())"
      ],
      "execution_count": 0,
      "outputs": [
        {
          "output_type": "execute_result",
          "data": {
            "text/plain": [
              "(array([ 4, 11, 12]),)"
            ]
          },
          "metadata": {
            "tags": []
          },
          "execution_count": 70
        }
      ]
    },
    {
      "cell_type": "code",
      "metadata": {
        "id": "3WW7iRS6Mxc0",
        "colab_type": "code",
        "outputId": "d890de95-5585-4166-8310-670d0ac96238",
        "colab": {
          "base_uri": "https://localhost:8080/",
          "height": 111
        }
      },
      "source": [
        "# create a duplicated row as the last row\n",
        "df_dup=df_uk_rain\n",
        "df_dup.loc[len(df_dup)]=df_dup.iloc[0]\n",
        "df_dup.iloc[[0,-1]] # first and last row"
      ],
      "execution_count": 0,
      "outputs": [
        {
          "output_type": "execute_result",
          "data": {
            "text/html": [
              "<div>\n",
              "<style scoped>\n",
              "    .dataframe tbody tr th:only-of-type {\n",
              "        vertical-align: middle;\n",
              "    }\n",
              "\n",
              "    .dataframe tbody tr th {\n",
              "        vertical-align: top;\n",
              "    }\n",
              "\n",
              "    .dataframe thead th {\n",
              "        text-align: right;\n",
              "    }\n",
              "</style>\n",
              "<table border=\"1\" class=\"dataframe\">\n",
              "  <thead>\n",
              "    <tr style=\"text-align: right;\">\n",
              "      <th></th>\n",
              "      <th>water_year</th>\n",
              "      <th>rain_octsep</th>\n",
              "      <th>outflow_octsep</th>\n",
              "      <th>rain_decfeb</th>\n",
              "      <th>outflow_decfeb</th>\n",
              "      <th>rain_junaug</th>\n",
              "      <th>outflow_junaug</th>\n",
              "      <th>year</th>\n",
              "    </tr>\n",
              "  </thead>\n",
              "  <tbody>\n",
              "    <tr>\n",
              "      <th>0</th>\n",
              "      <td>1980/81</td>\n",
              "      <td>1182</td>\n",
              "      <td>5408</td>\n",
              "      <td>292</td>\n",
              "      <td>7248</td>\n",
              "      <td>174</td>\n",
              "      <td>2212</td>\n",
              "      <td>1980</td>\n",
              "    </tr>\n",
              "    <tr>\n",
              "      <th>33</th>\n",
              "      <td>1980/81</td>\n",
              "      <td>1182</td>\n",
              "      <td>5408</td>\n",
              "      <td>292</td>\n",
              "      <td>7248</td>\n",
              "      <td>174</td>\n",
              "      <td>2212</td>\n",
              "      <td>1980</td>\n",
              "    </tr>\n",
              "  </tbody>\n",
              "</table>\n",
              "</div>"
            ],
            "text/plain": [
              "   water_year  rain_octsep  outflow_octsep  ...  rain_junaug  outflow_junaug  year\n",
              "0     1980/81         1182            5408  ...          174            2212  1980\n",
              "33    1980/81         1182            5408  ...          174            2212  1980\n",
              "\n",
              "[2 rows x 8 columns]"
            ]
          },
          "metadata": {
            "tags": []
          },
          "execution_count": 71
        }
      ]
    },
    {
      "cell_type": "code",
      "metadata": {
        "id": "7w6LsQVoM23Y",
        "colab_type": "code",
        "outputId": "69cd5337-8f8a-4d6b-ca8c-a565390a0004",
        "colab": {
          "base_uri": "https://localhost:8080/",
          "height": 612
        }
      },
      "source": [
        "# check duplicate rows\n",
        "df_dup.duplicated()"
      ],
      "execution_count": 0,
      "outputs": [
        {
          "output_type": "execute_result",
          "data": {
            "text/plain": [
              "0     False\n",
              "1     False\n",
              "2     False\n",
              "3     False\n",
              "4     False\n",
              "5     False\n",
              "6     False\n",
              "7     False\n",
              "8     False\n",
              "9     False\n",
              "10    False\n",
              "11    False\n",
              "12    False\n",
              "13    False\n",
              "14    False\n",
              "15    False\n",
              "16    False\n",
              "17    False\n",
              "18    False\n",
              "19    False\n",
              "20    False\n",
              "21    False\n",
              "22    False\n",
              "23    False\n",
              "24    False\n",
              "25    False\n",
              "26    False\n",
              "27    False\n",
              "28    False\n",
              "29    False\n",
              "30    False\n",
              "31    False\n",
              "32    False\n",
              "33     True\n",
              "dtype: bool"
            ]
          },
          "metadata": {
            "tags": []
          },
          "execution_count": 72
        }
      ]
    },
    {
      "cell_type": "code",
      "metadata": {
        "id": "IhjIxyGbNFF_",
        "colab_type": "code",
        "outputId": "951f6731-c0f6-4751-c412-49bdaef76fda",
        "colab": {
          "base_uri": "https://localhost:8080/",
          "height": 111
        }
      },
      "source": [
        "# remove duplicates\n",
        "df_dedup=df_dup.drop_duplicates()\n",
        "df_dedup.iloc[[0,-1],:]"
      ],
      "execution_count": 0,
      "outputs": [
        {
          "output_type": "execute_result",
          "data": {
            "text/html": [
              "<div>\n",
              "<style scoped>\n",
              "    .dataframe tbody tr th:only-of-type {\n",
              "        vertical-align: middle;\n",
              "    }\n",
              "\n",
              "    .dataframe tbody tr th {\n",
              "        vertical-align: top;\n",
              "    }\n",
              "\n",
              "    .dataframe thead th {\n",
              "        text-align: right;\n",
              "    }\n",
              "</style>\n",
              "<table border=\"1\" class=\"dataframe\">\n",
              "  <thead>\n",
              "    <tr style=\"text-align: right;\">\n",
              "      <th></th>\n",
              "      <th>water_year</th>\n",
              "      <th>rain_octsep</th>\n",
              "      <th>outflow_octsep</th>\n",
              "      <th>rain_decfeb</th>\n",
              "      <th>outflow_decfeb</th>\n",
              "      <th>rain_junaug</th>\n",
              "      <th>outflow_junaug</th>\n",
              "      <th>year</th>\n",
              "    </tr>\n",
              "  </thead>\n",
              "  <tbody>\n",
              "    <tr>\n",
              "      <th>0</th>\n",
              "      <td>1980/81</td>\n",
              "      <td>1182</td>\n",
              "      <td>5408</td>\n",
              "      <td>292</td>\n",
              "      <td>7248</td>\n",
              "      <td>174</td>\n",
              "      <td>2212</td>\n",
              "      <td>1980</td>\n",
              "    </tr>\n",
              "    <tr>\n",
              "      <th>32</th>\n",
              "      <td>2012/13</td>\n",
              "      <td>1090</td>\n",
              "      <td>5329</td>\n",
              "      <td>350</td>\n",
              "      <td>9615</td>\n",
              "      <td>187</td>\n",
              "      <td>1797</td>\n",
              "      <td>2012</td>\n",
              "    </tr>\n",
              "  </tbody>\n",
              "</table>\n",
              "</div>"
            ],
            "text/plain": [
              "   water_year  rain_octsep  outflow_octsep  ...  rain_junaug  outflow_junaug  year\n",
              "0     1980/81         1182            5408  ...          174            2212  1980\n",
              "32    2012/13         1090            5329  ...          187            1797  2012\n",
              "\n",
              "[2 rows x 8 columns]"
            ]
          },
          "metadata": {
            "tags": []
          },
          "execution_count": 73
        }
      ]
    },
    {
      "cell_type": "markdown",
      "metadata": {
        "id": "KRXFucSoTEu8",
        "colab_type": "text"
      },
      "source": [
        "### Outlier\n",
        "\n",
        "boxplot, winsorizing"
      ]
    },
    {
      "cell_type": "markdown",
      "metadata": {
        "id": "-4SNIM9OSRQQ",
        "colab_type": "text"
      },
      "source": [
        "![alt text](https://www.mathsisfun.com/data/images/outlier.svg)<br>\n",
        "![alt text](https://statistics.laerd.com/statistical-guides/img/pearson-6.png)"
      ]
    },
    {
      "cell_type": "code",
      "metadata": {
        "colab_type": "code",
        "id": "-VPqrSomd5fY",
        "outputId": "99bc109f-66da-44a0-941f-5a8991baaf68",
        "colab": {
          "base_uri": "https://localhost:8080/",
          "height": 286
        }
      },
      "source": [
        "import seaborn as sns\n",
        "# Simulate data\n",
        "dt_outlier=np.concatenate([np.random.normal(0,1,1000),np.random.normal(8,1,10)])\n",
        "sns.set_style('whitegrid')\n",
        "sns.distplot(dt_outlier)"
      ],
      "execution_count": 0,
      "outputs": [
        {
          "output_type": "execute_result",
          "data": {
            "text/plain": [
              "<matplotlib.axes._subplots.AxesSubplot at 0x7fbe0ed8b048>"
            ]
          },
          "metadata": {
            "tags": []
          },
          "execution_count": 75
        },
        {
          "output_type": "display_data",
          "data": {
            "image/png": "[encoded data removed]",
            "text/plain": [
              "<Figure size 432x288 with 1 Axes>"
            ]
          },
          "metadata": {
            "tags": []
          }
        }
      ]
    },
    {
      "cell_type": "markdown",
      "metadata": {
        "id": "CODolxCDSiQv",
        "colab_type": "text"
      },
      "source": [
        "Outlier Detection： Boxplot  <br>\n",
        "Interquartile Range(IQR):\n",
        "IQR= Upper Quantile(Q3) - Lower Quartile(Q1) <br>\n",
        "Lower Limit = Q1 - 1.5 IQR <br>\n",
        "Upper Limit = Q3 + 1.5 IQR <br>\n",
        "![alt text](https://i.stack.imgur.com/mpbTr.gif)\n"
      ]
    },
    {
      "cell_type": "code",
      "metadata": {
        "id": "pIlD3GhuSjwU",
        "colab_type": "code",
        "outputId": "4729194d-608c-4814-913e-fbb801c4b196",
        "colab": {
          "base_uri": "https://localhost:8080/",
          "height": 273
        }
      },
      "source": [
        "sns.boxplot(dt_outlier,orient='v')"
      ],
      "execution_count": 0,
      "outputs": [
        {
          "output_type": "execute_result",
          "data": {
            "text/plain": [
              "<matplotlib.axes._subplots.AxesSubplot at 0x7fbe0ed10358>"
            ]
          },
          "metadata": {
            "tags": []
          },
          "execution_count": 76
        },
        {
          "output_type": "display_data",
          "data": {
            "image/png": "[encoded data removed]",
            "text/plain": [
              "<Figure size 432x288 with 1 Axes>"
            ]
          },
          "metadata": {
            "tags": []
          }
        }
      ]
    },
    {
      "cell_type": "code",
      "metadata": {
        "id": "COGwopQ5Sndz",
        "colab_type": "code",
        "outputId": "c7981574-bcda-47dd-f78d-0b9024130ff5",
        "colab": {
          "base_uri": "https://localhost:8080/",
          "height": 274
        }
      },
      "source": [
        "# define a function remove outlier using IQR\n",
        "def iqr_outlier_rm(dt_input):\n",
        "  lq,uq=np.percentile(dt_input,[25,75])\n",
        "  lower_l=lq - 1.5*(uq-lq)\n",
        "  upper_l=uq + 1.5*(uq-lq)\n",
        "  return dt_input[(dt_input >=lower_l)&(dt_input<=upper_l)]\n",
        "  \n",
        "dt_outlier_ws=iqr_outlier_rm(dt_outlier)\n",
        "sns.boxplot(dt_outlier_ws,orient='v')"
      ],
      "execution_count": 0,
      "outputs": [
        {
          "output_type": "execute_result",
          "data": {
            "text/plain": [
              "<matplotlib.axes._subplots.AxesSubplot at 0x7fbe0c413908>"
            ]
          },
          "metadata": {
            "tags": []
          },
          "execution_count": 77
        },
        {
          "output_type": "display_data",
          "data": {
            "image/png": "[encoded data removed]",
            "text/plain": [
              "<Figure size 432x288 with 1 Axes>"
            ]
          },
          "metadata": {
            "tags": []
          }
        }
      ]
    },
    {
      "cell_type": "markdown",
      "metadata": {
        "id": "BuiYDRdBTruC",
        "colab_type": "text"
      },
      "source": [
        "### Missing value"
      ]
    },
    {
      "cell_type": "code",
      "metadata": {
        "id": "qXHF_u0eQl12",
        "colab_type": "code",
        "outputId": "816aa392-9679-4958-9c89-23c9ddc46d6a",
        "colab": {
          "base_uri": "https://localhost:8080/",
          "height": 204
        }
      },
      "source": [
        "# check rows: return rows have NaN\n",
        "idx_row_nan=pd.isnull(df_left_join).any(axis=1) # return bool value\n",
        "df_left_join.loc[idx_row_nan].head()"
      ],
      "execution_count": 0,
      "outputs": [
        {
          "output_type": "execute_result",
          "data": {
            "text/html": [
              "<div>\n",
              "<style scoped>\n",
              "    .dataframe tbody tr th:only-of-type {\n",
              "        vertical-align: middle;\n",
              "    }\n",
              "\n",
              "    .dataframe tbody tr th {\n",
              "        vertical-align: top;\n",
              "    }\n",
              "\n",
              "    .dataframe thead th {\n",
              "        text-align: right;\n",
              "    }\n",
              "</style>\n",
              "<table border=\"1\" class=\"dataframe\">\n",
              "  <thead>\n",
              "    <tr style=\"text-align: right;\">\n",
              "      <th></th>\n",
              "      <th>water_year</th>\n",
              "      <th>rain_octsep</th>\n",
              "      <th>outflow_octsep</th>\n",
              "      <th>rain_decfeb</th>\n",
              "      <th>outflow_decfeb</th>\n",
              "      <th>rain_junaug</th>\n",
              "      <th>outflow_junaug</th>\n",
              "      <th>year</th>\n",
              "      <th>rain_cn</th>\n",
              "    </tr>\n",
              "  </thead>\n",
              "  <tbody>\n",
              "    <tr>\n",
              "      <th>10</th>\n",
              "      <td>1990/91</td>\n",
              "      <td>1022</td>\n",
              "      <td>4418</td>\n",
              "      <td>305</td>\n",
              "      <td>7120</td>\n",
              "      <td>216</td>\n",
              "      <td>1923</td>\n",
              "      <td>1990</td>\n",
              "      <td>NaN</td>\n",
              "    </tr>\n",
              "    <tr>\n",
              "      <th>11</th>\n",
              "      <td>1991/92</td>\n",
              "      <td>1151</td>\n",
              "      <td>4506</td>\n",
              "      <td>246</td>\n",
              "      <td>5493</td>\n",
              "      <td>280</td>\n",
              "      <td>2118</td>\n",
              "      <td>1991</td>\n",
              "      <td>NaN</td>\n",
              "    </tr>\n",
              "    <tr>\n",
              "      <th>12</th>\n",
              "      <td>1992/93</td>\n",
              "      <td>1130</td>\n",
              "      <td>5246</td>\n",
              "      <td>308</td>\n",
              "      <td>8751</td>\n",
              "      <td>219</td>\n",
              "      <td>2551</td>\n",
              "      <td>1992</td>\n",
              "      <td>NaN</td>\n",
              "    </tr>\n",
              "    <tr>\n",
              "      <th>13</th>\n",
              "      <td>1993/94</td>\n",
              "      <td>1162</td>\n",
              "      <td>5583</td>\n",
              "      <td>422</td>\n",
              "      <td>10109</td>\n",
              "      <td>193</td>\n",
              "      <td>1638</td>\n",
              "      <td>1993</td>\n",
              "      <td>NaN</td>\n",
              "    </tr>\n",
              "    <tr>\n",
              "      <th>14</th>\n",
              "      <td>1994/95</td>\n",
              "      <td>1110</td>\n",
              "      <td>5370</td>\n",
              "      <td>484</td>\n",
              "      <td>11486</td>\n",
              "      <td>103</td>\n",
              "      <td>1231</td>\n",
              "      <td>1994</td>\n",
              "      <td>NaN</td>\n",
              "    </tr>\n",
              "  </tbody>\n",
              "</table>\n",
              "</div>"
            ],
            "text/plain": [
              "   water_year  rain_octsep  outflow_octsep  ...  outflow_junaug  year  rain_cn\n",
              "10    1990/91         1022            4418  ...            1923  1990      NaN\n",
              "11    1991/92         1151            4506  ...            2118  1991      NaN\n",
              "12    1992/93         1130            5246  ...            2551  1992      NaN\n",
              "13    1993/94         1162            5583  ...            1638  1993      NaN\n",
              "14    1994/95         1110            5370  ...            1231  1994      NaN\n",
              "\n",
              "[5 rows x 9 columns]"
            ]
          },
          "metadata": {
            "tags": []
          },
          "execution_count": 79
        }
      ]
    },
    {
      "cell_type": "code",
      "metadata": {
        "id": "seH2cEELQ4DV",
        "colab_type": "code",
        "outputId": "4f5f60dc-6180-4fdf-ce62-bfb470723758",
        "colab": {
          "base_uri": "https://localhost:8080/",
          "height": 187
        }
      },
      "source": [
        "# check cols\n",
        "pd.isnull(df_left_join).any(axis=0)"
      ],
      "execution_count": 0,
      "outputs": [
        {
          "output_type": "execute_result",
          "data": {
            "text/plain": [
              "water_year        False\n",
              "rain_octsep       False\n",
              "outflow_octsep    False\n",
              "rain_decfeb       False\n",
              "outflow_decfeb    False\n",
              "rain_junaug       False\n",
              "outflow_junaug    False\n",
              "year              False\n",
              "rain_cn            True\n",
              "dtype: bool"
            ]
          },
          "metadata": {
            "tags": []
          },
          "execution_count": 80
        }
      ]
    },
    {
      "cell_type": "code",
      "metadata": {
        "id": "KV3-lDqERAWW",
        "colab_type": "code",
        "outputId": "a3356ca3-dc67-4ae6-a0ba-8d4d026fc20c",
        "colab": {
          "base_uri": "https://localhost:8080/",
          "height": 359
        }
      },
      "source": [
        "# select the rows without NaN\n",
        "df_left_join.loc[-idx_row_nan] # negative bool can be used"
      ],
      "execution_count": 0,
      "outputs": [
        {
          "output_type": "execute_result",
          "data": {
            "text/html": [
              "<div>\n",
              "<style scoped>\n",
              "    .dataframe tbody tr th:only-of-type {\n",
              "        vertical-align: middle;\n",
              "    }\n",
              "\n",
              "    .dataframe tbody tr th {\n",
              "        vertical-align: top;\n",
              "    }\n",
              "\n",
              "    .dataframe thead th {\n",
              "        text-align: right;\n",
              "    }\n",
              "</style>\n",
              "<table border=\"1\" class=\"dataframe\">\n",
              "  <thead>\n",
              "    <tr style=\"text-align: right;\">\n",
              "      <th></th>\n",
              "      <th>water_year</th>\n",
              "      <th>rain_octsep</th>\n",
              "      <th>outflow_octsep</th>\n",
              "      <th>rain_decfeb</th>\n",
              "      <th>outflow_decfeb</th>\n",
              "      <th>rain_junaug</th>\n",
              "      <th>outflow_junaug</th>\n",
              "      <th>year</th>\n",
              "      <th>rain_cn</th>\n",
              "    </tr>\n",
              "  </thead>\n",
              "  <tbody>\n",
              "    <tr>\n",
              "      <th>0</th>\n",
              "      <td>1980/81</td>\n",
              "      <td>1182</td>\n",
              "      <td>5408</td>\n",
              "      <td>292</td>\n",
              "      <td>7248</td>\n",
              "      <td>174</td>\n",
              "      <td>2212</td>\n",
              "      <td>1980</td>\n",
              "      <td>800.0</td>\n",
              "    </tr>\n",
              "    <tr>\n",
              "      <th>1</th>\n",
              "      <td>1981/82</td>\n",
              "      <td>1098</td>\n",
              "      <td>5112</td>\n",
              "      <td>257</td>\n",
              "      <td>7316</td>\n",
              "      <td>242</td>\n",
              "      <td>1936</td>\n",
              "      <td>1981</td>\n",
              "      <td>801.0</td>\n",
              "    </tr>\n",
              "    <tr>\n",
              "      <th>2</th>\n",
              "      <td>1982/83</td>\n",
              "      <td>1156</td>\n",
              "      <td>5701</td>\n",
              "      <td>330</td>\n",
              "      <td>8567</td>\n",
              "      <td>124</td>\n",
              "      <td>1802</td>\n",
              "      <td>1982</td>\n",
              "      <td>802.0</td>\n",
              "    </tr>\n",
              "    <tr>\n",
              "      <th>3</th>\n",
              "      <td>1983/84</td>\n",
              "      <td>993</td>\n",
              "      <td>4265</td>\n",
              "      <td>391</td>\n",
              "      <td>8905</td>\n",
              "      <td>141</td>\n",
              "      <td>1078</td>\n",
              "      <td>1983</td>\n",
              "      <td>803.0</td>\n",
              "    </tr>\n",
              "    <tr>\n",
              "      <th>4</th>\n",
              "      <td>1984/85</td>\n",
              "      <td>1182</td>\n",
              "      <td>5364</td>\n",
              "      <td>217</td>\n",
              "      <td>5813</td>\n",
              "      <td>343</td>\n",
              "      <td>4313</td>\n",
              "      <td>1984</td>\n",
              "      <td>804.0</td>\n",
              "    </tr>\n",
              "    <tr>\n",
              "      <th>5</th>\n",
              "      <td>1985/86</td>\n",
              "      <td>1027</td>\n",
              "      <td>4991</td>\n",
              "      <td>304</td>\n",
              "      <td>7951</td>\n",
              "      <td>229</td>\n",
              "      <td>2595</td>\n",
              "      <td>1985</td>\n",
              "      <td>805.0</td>\n",
              "    </tr>\n",
              "    <tr>\n",
              "      <th>6</th>\n",
              "      <td>1986/87</td>\n",
              "      <td>1151</td>\n",
              "      <td>5196</td>\n",
              "      <td>295</td>\n",
              "      <td>7593</td>\n",
              "      <td>267</td>\n",
              "      <td>2826</td>\n",
              "      <td>1986</td>\n",
              "      <td>806.0</td>\n",
              "    </tr>\n",
              "    <tr>\n",
              "      <th>7</th>\n",
              "      <td>1987/88</td>\n",
              "      <td>1210</td>\n",
              "      <td>5572</td>\n",
              "      <td>343</td>\n",
              "      <td>8456</td>\n",
              "      <td>294</td>\n",
              "      <td>3154</td>\n",
              "      <td>1987</td>\n",
              "      <td>807.0</td>\n",
              "    </tr>\n",
              "    <tr>\n",
              "      <th>8</th>\n",
              "      <td>1988/89</td>\n",
              "      <td>976</td>\n",
              "      <td>4330</td>\n",
              "      <td>309</td>\n",
              "      <td>6465</td>\n",
              "      <td>200</td>\n",
              "      <td>1440</td>\n",
              "      <td>1988</td>\n",
              "      <td>808.0</td>\n",
              "    </tr>\n",
              "    <tr>\n",
              "      <th>9</th>\n",
              "      <td>1989/90</td>\n",
              "      <td>1130</td>\n",
              "      <td>4973</td>\n",
              "      <td>470</td>\n",
              "      <td>10520</td>\n",
              "      <td>209</td>\n",
              "      <td>1740</td>\n",
              "      <td>1989</td>\n",
              "      <td>809.0</td>\n",
              "    </tr>\n",
              "  </tbody>\n",
              "</table>\n",
              "</div>"
            ],
            "text/plain": [
              "  water_year  rain_octsep  outflow_octsep  ...  outflow_junaug  year  rain_cn\n",
              "0    1980/81         1182            5408  ...            2212  1980    800.0\n",
              "1    1981/82         1098            5112  ...            1936  1981    801.0\n",
              "2    1982/83         1156            5701  ...            1802  1982    802.0\n",
              "3    1983/84          993            4265  ...            1078  1983    803.0\n",
              "4    1984/85         1182            5364  ...            4313  1984    804.0\n",
              "5    1985/86         1027            4991  ...            2595  1985    805.0\n",
              "6    1986/87         1151            5196  ...            2826  1986    806.0\n",
              "7    1987/88         1210            5572  ...            3154  1987    807.0\n",
              "8    1988/89          976            4330  ...            1440  1988    808.0\n",
              "9    1989/90         1130            4973  ...            1740  1989    809.0\n",
              "\n",
              "[10 rows x 9 columns]"
            ]
          },
          "metadata": {
            "tags": []
          },
          "execution_count": 81
        }
      ]
    },
    {
      "cell_type": "code",
      "metadata": {
        "id": "Ht9Io4K4bBZ3",
        "colab_type": "code",
        "outputId": "d149ce99-f04f-41af-d369-ddc6ad04c51b",
        "colab": {
          "base_uri": "https://localhost:8080/",
          "height": 762
        }
      },
      "source": [
        "# check nan rows\n",
        "df_left_join.loc[idx_row_nan]"
      ],
      "execution_count": 0,
      "outputs": [
        {
          "output_type": "execute_result",
          "data": {
            "text/html": [
              "<div>\n",
              "<style scoped>\n",
              "    .dataframe tbody tr th:only-of-type {\n",
              "        vertical-align: middle;\n",
              "    }\n",
              "\n",
              "    .dataframe tbody tr th {\n",
              "        vertical-align: top;\n",
              "    }\n",
              "\n",
              "    .dataframe thead th {\n",
              "        text-align: right;\n",
              "    }\n",
              "</style>\n",
              "<table border=\"1\" class=\"dataframe\">\n",
              "  <thead>\n",
              "    <tr style=\"text-align: right;\">\n",
              "      <th></th>\n",
              "      <th>water_year</th>\n",
              "      <th>rain_octsep</th>\n",
              "      <th>outflow_octsep</th>\n",
              "      <th>rain_decfeb</th>\n",
              "      <th>outflow_decfeb</th>\n",
              "      <th>rain_junaug</th>\n",
              "      <th>outflow_junaug</th>\n",
              "      <th>year</th>\n",
              "      <th>rain_cn</th>\n",
              "    </tr>\n",
              "  </thead>\n",
              "  <tbody>\n",
              "    <tr>\n",
              "      <th>10</th>\n",
              "      <td>1990/91</td>\n",
              "      <td>1022</td>\n",
              "      <td>4418</td>\n",
              "      <td>305</td>\n",
              "      <td>7120</td>\n",
              "      <td>216</td>\n",
              "      <td>1923</td>\n",
              "      <td>1990</td>\n",
              "      <td>NaN</td>\n",
              "    </tr>\n",
              "    <tr>\n",
              "      <th>11</th>\n",
              "      <td>1991/92</td>\n",
              "      <td>1151</td>\n",
              "      <td>4506</td>\n",
              "      <td>246</td>\n",
              "      <td>5493</td>\n",
              "      <td>280</td>\n",
              "      <td>2118</td>\n",
              "      <td>1991</td>\n",
              "      <td>NaN</td>\n",
              "    </tr>\n",
              "    <tr>\n",
              "      <th>12</th>\n",
              "      <td>1992/93</td>\n",
              "      <td>1130</td>\n",
              "      <td>5246</td>\n",
              "      <td>308</td>\n",
              "      <td>8751</td>\n",
              "      <td>219</td>\n",
              "      <td>2551</td>\n",
              "      <td>1992</td>\n",
              "      <td>NaN</td>\n",
              "    </tr>\n",
              "    <tr>\n",
              "      <th>13</th>\n",
              "      <td>1993/94</td>\n",
              "      <td>1162</td>\n",
              "      <td>5583</td>\n",
              "      <td>422</td>\n",
              "      <td>10109</td>\n",
              "      <td>193</td>\n",
              "      <td>1638</td>\n",
              "      <td>1993</td>\n",
              "      <td>NaN</td>\n",
              "    </tr>\n",
              "    <tr>\n",
              "      <th>14</th>\n",
              "      <td>1994/95</td>\n",
              "      <td>1110</td>\n",
              "      <td>5370</td>\n",
              "      <td>484</td>\n",
              "      <td>11486</td>\n",
              "      <td>103</td>\n",
              "      <td>1231</td>\n",
              "      <td>1994</td>\n",
              "      <td>NaN</td>\n",
              "    </tr>\n",
              "    <tr>\n",
              "      <th>15</th>\n",
              "      <td>1995/96</td>\n",
              "      <td>856</td>\n",
              "      <td>3479</td>\n",
              "      <td>245</td>\n",
              "      <td>5515</td>\n",
              "      <td>172</td>\n",
              "      <td>1439</td>\n",
              "      <td>1995</td>\n",
              "      <td>NaN</td>\n",
              "    </tr>\n",
              "    <tr>\n",
              "      <th>16</th>\n",
              "      <td>1996/97</td>\n",
              "      <td>1047</td>\n",
              "      <td>4019</td>\n",
              "      <td>258</td>\n",
              "      <td>5770</td>\n",
              "      <td>256</td>\n",
              "      <td>2102</td>\n",
              "      <td>1996</td>\n",
              "      <td>NaN</td>\n",
              "    </tr>\n",
              "    <tr>\n",
              "      <th>17</th>\n",
              "      <td>1997/98</td>\n",
              "      <td>1169</td>\n",
              "      <td>4953</td>\n",
              "      <td>341</td>\n",
              "      <td>7747</td>\n",
              "      <td>285</td>\n",
              "      <td>3206</td>\n",
              "      <td>1997</td>\n",
              "      <td>NaN</td>\n",
              "    </tr>\n",
              "    <tr>\n",
              "      <th>18</th>\n",
              "      <td>1998/99</td>\n",
              "      <td>1268</td>\n",
              "      <td>5824</td>\n",
              "      <td>360</td>\n",
              "      <td>8771</td>\n",
              "      <td>225</td>\n",
              "      <td>2240</td>\n",
              "      <td>1998</td>\n",
              "      <td>NaN</td>\n",
              "    </tr>\n",
              "    <tr>\n",
              "      <th>19</th>\n",
              "      <td>1999/00</td>\n",
              "      <td>1204</td>\n",
              "      <td>5665</td>\n",
              "      <td>417</td>\n",
              "      <td>10021</td>\n",
              "      <td>197</td>\n",
              "      <td>2166</td>\n",
              "      <td>1999</td>\n",
              "      <td>NaN</td>\n",
              "    </tr>\n",
              "    <tr>\n",
              "      <th>20</th>\n",
              "      <td>2000/01</td>\n",
              "      <td>1239</td>\n",
              "      <td>6092</td>\n",
              "      <td>328</td>\n",
              "      <td>9347</td>\n",
              "      <td>236</td>\n",
              "      <td>2142</td>\n",
              "      <td>2000</td>\n",
              "      <td>NaN</td>\n",
              "    </tr>\n",
              "    <tr>\n",
              "      <th>21</th>\n",
              "      <td>2001/02</td>\n",
              "      <td>1185</td>\n",
              "      <td>5402</td>\n",
              "      <td>380</td>\n",
              "      <td>8891</td>\n",
              "      <td>259</td>\n",
              "      <td>3187</td>\n",
              "      <td>2001</td>\n",
              "      <td>NaN</td>\n",
              "    </tr>\n",
              "    <tr>\n",
              "      <th>22</th>\n",
              "      <td>2002/03</td>\n",
              "      <td>1021</td>\n",
              "      <td>4366</td>\n",
              "      <td>272</td>\n",
              "      <td>7093</td>\n",
              "      <td>176</td>\n",
              "      <td>1478</td>\n",
              "      <td>2002</td>\n",
              "      <td>NaN</td>\n",
              "    </tr>\n",
              "    <tr>\n",
              "      <th>23</th>\n",
              "      <td>2003/04</td>\n",
              "      <td>1165</td>\n",
              "      <td>4275</td>\n",
              "      <td>348</td>\n",
              "      <td>7493</td>\n",
              "      <td>315</td>\n",
              "      <td>2959</td>\n",
              "      <td>2003</td>\n",
              "      <td>NaN</td>\n",
              "    </tr>\n",
              "    <tr>\n",
              "      <th>24</th>\n",
              "      <td>2004/05</td>\n",
              "      <td>1095</td>\n",
              "      <td>4547</td>\n",
              "      <td>309</td>\n",
              "      <td>7183</td>\n",
              "      <td>217</td>\n",
              "      <td>1799</td>\n",
              "      <td>2004</td>\n",
              "      <td>NaN</td>\n",
              "    </tr>\n",
              "    <tr>\n",
              "      <th>25</th>\n",
              "      <td>2005/06</td>\n",
              "      <td>1046</td>\n",
              "      <td>4059</td>\n",
              "      <td>206</td>\n",
              "      <td>4578</td>\n",
              "      <td>188</td>\n",
              "      <td>1474</td>\n",
              "      <td>2005</td>\n",
              "      <td>NaN</td>\n",
              "    </tr>\n",
              "    <tr>\n",
              "      <th>26</th>\n",
              "      <td>2006/07</td>\n",
              "      <td>1387</td>\n",
              "      <td>6391</td>\n",
              "      <td>437</td>\n",
              "      <td>10926</td>\n",
              "      <td>357</td>\n",
              "      <td>5168</td>\n",
              "      <td>2006</td>\n",
              "      <td>NaN</td>\n",
              "    </tr>\n",
              "    <tr>\n",
              "      <th>27</th>\n",
              "      <td>2007/08</td>\n",
              "      <td>1225</td>\n",
              "      <td>5497</td>\n",
              "      <td>386</td>\n",
              "      <td>9485</td>\n",
              "      <td>320</td>\n",
              "      <td>3505</td>\n",
              "      <td>2007</td>\n",
              "      <td>NaN</td>\n",
              "    </tr>\n",
              "    <tr>\n",
              "      <th>28</th>\n",
              "      <td>2008/09</td>\n",
              "      <td>1139</td>\n",
              "      <td>4941</td>\n",
              "      <td>268</td>\n",
              "      <td>6690</td>\n",
              "      <td>323</td>\n",
              "      <td>3189</td>\n",
              "      <td>2008</td>\n",
              "      <td>NaN</td>\n",
              "    </tr>\n",
              "    <tr>\n",
              "      <th>29</th>\n",
              "      <td>2009/10</td>\n",
              "      <td>1103</td>\n",
              "      <td>4738</td>\n",
              "      <td>255</td>\n",
              "      <td>6435</td>\n",
              "      <td>244</td>\n",
              "      <td>1958</td>\n",
              "      <td>2009</td>\n",
              "      <td>NaN</td>\n",
              "    </tr>\n",
              "    <tr>\n",
              "      <th>30</th>\n",
              "      <td>2010/11</td>\n",
              "      <td>1053</td>\n",
              "      <td>4521</td>\n",
              "      <td>265</td>\n",
              "      <td>6593</td>\n",
              "      <td>267</td>\n",
              "      <td>2885</td>\n",
              "      <td>2010</td>\n",
              "      <td>NaN</td>\n",
              "    </tr>\n",
              "    <tr>\n",
              "      <th>31</th>\n",
              "      <td>2011/12</td>\n",
              "      <td>1285</td>\n",
              "      <td>5500</td>\n",
              "      <td>339</td>\n",
              "      <td>7630</td>\n",
              "      <td>379</td>\n",
              "      <td>5261</td>\n",
              "      <td>2011</td>\n",
              "      <td>NaN</td>\n",
              "    </tr>\n",
              "    <tr>\n",
              "      <th>32</th>\n",
              "      <td>2012/13</td>\n",
              "      <td>1090</td>\n",
              "      <td>5329</td>\n",
              "      <td>350</td>\n",
              "      <td>9615</td>\n",
              "      <td>187</td>\n",
              "      <td>1797</td>\n",
              "      <td>2012</td>\n",
              "      <td>NaN</td>\n",
              "    </tr>\n",
              "  </tbody>\n",
              "</table>\n",
              "</div>"
            ],
            "text/plain": [
              "   water_year  rain_octsep  outflow_octsep  ...  outflow_junaug  year  rain_cn\n",
              "10    1990/91         1022            4418  ...            1923  1990      NaN\n",
              "11    1991/92         1151            4506  ...            2118  1991      NaN\n",
              "12    1992/93         1130            5246  ...            2551  1992      NaN\n",
              "13    1993/94         1162            5583  ...            1638  1993      NaN\n",
              "14    1994/95         1110            5370  ...            1231  1994      NaN\n",
              "15    1995/96          856            3479  ...            1439  1995      NaN\n",
              "16    1996/97         1047            4019  ...            2102  1996      NaN\n",
              "17    1997/98         1169            4953  ...            3206  1997      NaN\n",
              "18    1998/99         1268            5824  ...            2240  1998      NaN\n",
              "19    1999/00         1204            5665  ...            2166  1999      NaN\n",
              "20    2000/01         1239            6092  ...            2142  2000      NaN\n",
              "21    2001/02         1185            5402  ...            3187  2001      NaN\n",
              "22    2002/03         1021            4366  ...            1478  2002      NaN\n",
              "23    2003/04         1165            4275  ...            2959  2003      NaN\n",
              "24    2004/05         1095            4547  ...            1799  2004      NaN\n",
              "25    2005/06         1046            4059  ...            1474  2005      NaN\n",
              "26    2006/07         1387            6391  ...            5168  2006      NaN\n",
              "27    2007/08         1225            5497  ...            3505  2007      NaN\n",
              "28    2008/09         1139            4941  ...            3189  2008      NaN\n",
              "29    2009/10         1103            4738  ...            1958  2009      NaN\n",
              "30    2010/11         1053            4521  ...            2885  2010      NaN\n",
              "31    2011/12         1285            5500  ...            5261  2011      NaN\n",
              "32    2012/13         1090            5329  ...            1797  2012      NaN\n",
              "\n",
              "[23 rows x 9 columns]"
            ]
          },
          "metadata": {
            "tags": []
          },
          "execution_count": 82
        }
      ]
    },
    {
      "cell_type": "code",
      "metadata": {
        "id": "UbWh4nZ3Rf5b",
        "colab_type": "code",
        "outputId": "36cdd1ab-4546-4285-8a8b-2ca80edfd248",
        "colab": {
          "base_uri": "https://localhost:8080/",
          "height": 204
        }
      },
      "source": [
        "# Imputation: replace NaN with 0\n",
        "df_left_join_1=df_left_join\n",
        "df_left_join_1.fillna(0).tail(5)"
      ],
      "execution_count": 0,
      "outputs": [
        {
          "output_type": "execute_result",
          "data": {
            "text/html": [
              "<div>\n",
              "<style scoped>\n",
              "    .dataframe tbody tr th:only-of-type {\n",
              "        vertical-align: middle;\n",
              "    }\n",
              "\n",
              "    .dataframe tbody tr th {\n",
              "        vertical-align: top;\n",
              "    }\n",
              "\n",
              "    .dataframe thead th {\n",
              "        text-align: right;\n",
              "    }\n",
              "</style>\n",
              "<table border=\"1\" class=\"dataframe\">\n",
              "  <thead>\n",
              "    <tr style=\"text-align: right;\">\n",
              "      <th></th>\n",
              "      <th>water_year</th>\n",
              "      <th>rain_octsep</th>\n",
              "      <th>outflow_octsep</th>\n",
              "      <th>rain_decfeb</th>\n",
              "      <th>outflow_decfeb</th>\n",
              "      <th>rain_junaug</th>\n",
              "      <th>outflow_junaug</th>\n",
              "      <th>year</th>\n",
              "      <th>rain_cn</th>\n",
              "    </tr>\n",
              "  </thead>\n",
              "  <tbody>\n",
              "    <tr>\n",
              "      <th>28</th>\n",
              "      <td>2008/09</td>\n",
              "      <td>1139</td>\n",
              "      <td>4941</td>\n",
              "      <td>268</td>\n",
              "      <td>6690</td>\n",
              "      <td>323</td>\n",
              "      <td>3189</td>\n",
              "      <td>2008</td>\n",
              "      <td>0.0</td>\n",
              "    </tr>\n",
              "    <tr>\n",
              "      <th>29</th>\n",
              "      <td>2009/10</td>\n",
              "      <td>1103</td>\n",
              "      <td>4738</td>\n",
              "      <td>255</td>\n",
              "      <td>6435</td>\n",
              "      <td>244</td>\n",
              "      <td>1958</td>\n",
              "      <td>2009</td>\n",
              "      <td>0.0</td>\n",
              "    </tr>\n",
              "    <tr>\n",
              "      <th>30</th>\n",
              "      <td>2010/11</td>\n",
              "      <td>1053</td>\n",
              "      <td>4521</td>\n",
              "      <td>265</td>\n",
              "      <td>6593</td>\n",
              "      <td>267</td>\n",
              "      <td>2885</td>\n",
              "      <td>2010</td>\n",
              "      <td>0.0</td>\n",
              "    </tr>\n",
              "    <tr>\n",
              "      <th>31</th>\n",
              "      <td>2011/12</td>\n",
              "      <td>1285</td>\n",
              "      <td>5500</td>\n",
              "      <td>339</td>\n",
              "      <td>7630</td>\n",
              "      <td>379</td>\n",
              "      <td>5261</td>\n",
              "      <td>2011</td>\n",
              "      <td>0.0</td>\n",
              "    </tr>\n",
              "    <tr>\n",
              "      <th>32</th>\n",
              "      <td>2012/13</td>\n",
              "      <td>1090</td>\n",
              "      <td>5329</td>\n",
              "      <td>350</td>\n",
              "      <td>9615</td>\n",
              "      <td>187</td>\n",
              "      <td>1797</td>\n",
              "      <td>2012</td>\n",
              "      <td>0.0</td>\n",
              "    </tr>\n",
              "  </tbody>\n",
              "</table>\n",
              "</div>"
            ],
            "text/plain": [
              "   water_year  rain_octsep  outflow_octsep  ...  outflow_junaug  year  rain_cn\n",
              "28    2008/09         1139            4941  ...            3189  2008      0.0\n",
              "29    2009/10         1103            4738  ...            1958  2009      0.0\n",
              "30    2010/11         1053            4521  ...            2885  2010      0.0\n",
              "31    2011/12         1285            5500  ...            5261  2011      0.0\n",
              "32    2012/13         1090            5329  ...            1797  2012      0.0\n",
              "\n",
              "[5 rows x 9 columns]"
            ]
          },
          "metadata": {
            "tags": []
          },
          "execution_count": 83
        }
      ]
    },
    {
      "cell_type": "code",
      "metadata": {
        "id": "lsif-KSuREBz",
        "colab_type": "code",
        "outputId": "6432db69-51e8-4e72-d6a9-64cd93f095e6",
        "colab": {
          "base_uri": "https://localhost:8080/",
          "height": 359
        }
      },
      "source": [
        "# drop NaN rows\n",
        "df_left_join_0=df_left_join\n",
        "df_left_join_0.dropna(axis='index') # axis = 0 or 1 is deprecated for dropna command"
      ],
      "execution_count": 0,
      "outputs": [
        {
          "output_type": "execute_result",
          "data": {
            "text/html": [
              "<div>\n",
              "<style scoped>\n",
              "    .dataframe tbody tr th:only-of-type {\n",
              "        vertical-align: middle;\n",
              "    }\n",
              "\n",
              "    .dataframe tbody tr th {\n",
              "        vertical-align: top;\n",
              "    }\n",
              "\n",
              "    .dataframe thead th {\n",
              "        text-align: right;\n",
              "    }\n",
              "</style>\n",
              "<table border=\"1\" class=\"dataframe\">\n",
              "  <thead>\n",
              "    <tr style=\"text-align: right;\">\n",
              "      <th></th>\n",
              "      <th>water_year</th>\n",
              "      <th>rain_octsep</th>\n",
              "      <th>outflow_octsep</th>\n",
              "      <th>rain_decfeb</th>\n",
              "      <th>outflow_decfeb</th>\n",
              "      <th>rain_junaug</th>\n",
              "      <th>outflow_junaug</th>\n",
              "      <th>year</th>\n",
              "      <th>rain_cn</th>\n",
              "    </tr>\n",
              "  </thead>\n",
              "  <tbody>\n",
              "    <tr>\n",
              "      <th>0</th>\n",
              "      <td>1980/81</td>\n",
              "      <td>1182</td>\n",
              "      <td>5408</td>\n",
              "      <td>292</td>\n",
              "      <td>7248</td>\n",
              "      <td>174</td>\n",
              "      <td>2212</td>\n",
              "      <td>1980</td>\n",
              "      <td>800.0</td>\n",
              "    </tr>\n",
              "    <tr>\n",
              "      <th>1</th>\n",
              "      <td>1981/82</td>\n",
              "      <td>1098</td>\n",
              "      <td>5112</td>\n",
              "      <td>257</td>\n",
              "      <td>7316</td>\n",
              "      <td>242</td>\n",
              "      <td>1936</td>\n",
              "      <td>1981</td>\n",
              "      <td>801.0</td>\n",
              "    </tr>\n",
              "    <tr>\n",
              "      <th>2</th>\n",
              "      <td>1982/83</td>\n",
              "      <td>1156</td>\n",
              "      <td>5701</td>\n",
              "      <td>330</td>\n",
              "      <td>8567</td>\n",
              "      <td>124</td>\n",
              "      <td>1802</td>\n",
              "      <td>1982</td>\n",
              "      <td>802.0</td>\n",
              "    </tr>\n",
              "    <tr>\n",
              "      <th>3</th>\n",
              "      <td>1983/84</td>\n",
              "      <td>993</td>\n",
              "      <td>4265</td>\n",
              "      <td>391</td>\n",
              "      <td>8905</td>\n",
              "      <td>141</td>\n",
              "      <td>1078</td>\n",
              "      <td>1983</td>\n",
              "      <td>803.0</td>\n",
              "    </tr>\n",
              "    <tr>\n",
              "      <th>4</th>\n",
              "      <td>1984/85</td>\n",
              "      <td>1182</td>\n",
              "      <td>5364</td>\n",
              "      <td>217</td>\n",
              "      <td>5813</td>\n",
              "      <td>343</td>\n",
              "      <td>4313</td>\n",
              "      <td>1984</td>\n",
              "      <td>804.0</td>\n",
              "    </tr>\n",
              "    <tr>\n",
              "      <th>5</th>\n",
              "      <td>1985/86</td>\n",
              "      <td>1027</td>\n",
              "      <td>4991</td>\n",
              "      <td>304</td>\n",
              "      <td>7951</td>\n",
              "      <td>229</td>\n",
              "      <td>2595</td>\n",
              "      <td>1985</td>\n",
              "      <td>805.0</td>\n",
              "    </tr>\n",
              "    <tr>\n",
              "      <th>6</th>\n",
              "      <td>1986/87</td>\n",
              "      <td>1151</td>\n",
              "      <td>5196</td>\n",
              "      <td>295</td>\n",
              "      <td>7593</td>\n",
              "      <td>267</td>\n",
              "      <td>2826</td>\n",
              "      <td>1986</td>\n",
              "      <td>806.0</td>\n",
              "    </tr>\n",
              "    <tr>\n",
              "      <th>7</th>\n",
              "      <td>1987/88</td>\n",
              "      <td>1210</td>\n",
              "      <td>5572</td>\n",
              "      <td>343</td>\n",
              "      <td>8456</td>\n",
              "      <td>294</td>\n",
              "      <td>3154</td>\n",
              "      <td>1987</td>\n",
              "      <td>807.0</td>\n",
              "    </tr>\n",
              "    <tr>\n",
              "      <th>8</th>\n",
              "      <td>1988/89</td>\n",
              "      <td>976</td>\n",
              "      <td>4330</td>\n",
              "      <td>309</td>\n",
              "      <td>6465</td>\n",
              "      <td>200</td>\n",
              "      <td>1440</td>\n",
              "      <td>1988</td>\n",
              "      <td>808.0</td>\n",
              "    </tr>\n",
              "    <tr>\n",
              "      <th>9</th>\n",
              "      <td>1989/90</td>\n",
              "      <td>1130</td>\n",
              "      <td>4973</td>\n",
              "      <td>470</td>\n",
              "      <td>10520</td>\n",
              "      <td>209</td>\n",
              "      <td>1740</td>\n",
              "      <td>1989</td>\n",
              "      <td>809.0</td>\n",
              "    </tr>\n",
              "  </tbody>\n",
              "</table>\n",
              "</div>"
            ],
            "text/plain": [
              "  water_year  rain_octsep  outflow_octsep  ...  outflow_junaug  year  rain_cn\n",
              "0    1980/81         1182            5408  ...            2212  1980    800.0\n",
              "1    1981/82         1098            5112  ...            1936  1981    801.0\n",
              "2    1982/83         1156            5701  ...            1802  1982    802.0\n",
              "3    1983/84          993            4265  ...            1078  1983    803.0\n",
              "4    1984/85         1182            5364  ...            4313  1984    804.0\n",
              "5    1985/86         1027            4991  ...            2595  1985    805.0\n",
              "6    1986/87         1151            5196  ...            2826  1986    806.0\n",
              "7    1987/88         1210            5572  ...            3154  1987    807.0\n",
              "8    1988/89          976            4330  ...            1440  1988    808.0\n",
              "9    1989/90         1130            4973  ...            1740  1989    809.0\n",
              "\n",
              "[10 rows x 9 columns]"
            ]
          },
          "metadata": {
            "tags": []
          },
          "execution_count": 84
        }
      ]
    },
    {
      "cell_type": "code",
      "metadata": {
        "id": "JHS9DO3fRmJQ",
        "colab_type": "code",
        "outputId": "a01d8e35-354f-4e75-fba9-d2aedcbf7c00",
        "colab": {
          "base_uri": "https://localhost:8080/",
          "height": 221
        }
      },
      "source": [
        "# Replace the NaN with column mean\n",
        "df_left_join_1=df_left_join.copy()\n",
        "print(df_left_join_1['rain_cn'].mean())\n",
        "df_left_join_1.tail(5)\n",
        "df_left_join_1['rain_cn'].fillna(df_left_join_1['rain_cn'].mean(), inplace=True)\n",
        "df_left_join_1.tail(5)\n"
      ],
      "execution_count": 0,
      "outputs": [
        {
          "output_type": "stream",
          "text": [
            "804.5\n"
          ],
          "name": "stdout"
        },
        {
          "output_type": "execute_result",
          "data": {
            "text/html": [
              "<div>\n",
              "<style scoped>\n",
              "    .dataframe tbody tr th:only-of-type {\n",
              "        vertical-align: middle;\n",
              "    }\n",
              "\n",
              "    .dataframe tbody tr th {\n",
              "        vertical-align: top;\n",
              "    }\n",
              "\n",
              "    .dataframe thead th {\n",
              "        text-align: right;\n",
              "    }\n",
              "</style>\n",
              "<table border=\"1\" class=\"dataframe\">\n",
              "  <thead>\n",
              "    <tr style=\"text-align: right;\">\n",
              "      <th></th>\n",
              "      <th>water_year</th>\n",
              "      <th>rain_octsep</th>\n",
              "      <th>outflow_octsep</th>\n",
              "      <th>rain_decfeb</th>\n",
              "      <th>outflow_decfeb</th>\n",
              "      <th>rain_junaug</th>\n",
              "      <th>outflow_junaug</th>\n",
              "      <th>year</th>\n",
              "      <th>rain_cn</th>\n",
              "    </tr>\n",
              "  </thead>\n",
              "  <tbody>\n",
              "    <tr>\n",
              "      <th>28</th>\n",
              "      <td>2008/09</td>\n",
              "      <td>1139</td>\n",
              "      <td>4941</td>\n",
              "      <td>268</td>\n",
              "      <td>6690</td>\n",
              "      <td>323</td>\n",
              "      <td>3189</td>\n",
              "      <td>2008</td>\n",
              "      <td>804.5</td>\n",
              "    </tr>\n",
              "    <tr>\n",
              "      <th>29</th>\n",
              "      <td>2009/10</td>\n",
              "      <td>1103</td>\n",
              "      <td>4738</td>\n",
              "      <td>255</td>\n",
              "      <td>6435</td>\n",
              "      <td>244</td>\n",
              "      <td>1958</td>\n",
              "      <td>2009</td>\n",
              "      <td>804.5</td>\n",
              "    </tr>\n",
              "    <tr>\n",
              "      <th>30</th>\n",
              "      <td>2010/11</td>\n",
              "      <td>1053</td>\n",
              "      <td>4521</td>\n",
              "      <td>265</td>\n",
              "      <td>6593</td>\n",
              "      <td>267</td>\n",
              "      <td>2885</td>\n",
              "      <td>2010</td>\n",
              "      <td>804.5</td>\n",
              "    </tr>\n",
              "    <tr>\n",
              "      <th>31</th>\n",
              "      <td>2011/12</td>\n",
              "      <td>1285</td>\n",
              "      <td>5500</td>\n",
              "      <td>339</td>\n",
              "      <td>7630</td>\n",
              "      <td>379</td>\n",
              "      <td>5261</td>\n",
              "      <td>2011</td>\n",
              "      <td>804.5</td>\n",
              "    </tr>\n",
              "    <tr>\n",
              "      <th>32</th>\n",
              "      <td>2012/13</td>\n",
              "      <td>1090</td>\n",
              "      <td>5329</td>\n",
              "      <td>350</td>\n",
              "      <td>9615</td>\n",
              "      <td>187</td>\n",
              "      <td>1797</td>\n",
              "      <td>2012</td>\n",
              "      <td>804.5</td>\n",
              "    </tr>\n",
              "  </tbody>\n",
              "</table>\n",
              "</div>"
            ],
            "text/plain": [
              "   water_year  rain_octsep  outflow_octsep  ...  outflow_junaug  year  rain_cn\n",
              "28    2008/09         1139            4941  ...            3189  2008    804.5\n",
              "29    2009/10         1103            4738  ...            1958  2009    804.5\n",
              "30    2010/11         1053            4521  ...            2885  2010    804.5\n",
              "31    2011/12         1285            5500  ...            5261  2011    804.5\n",
              "32    2012/13         1090            5329  ...            1797  2012    804.5\n",
              "\n",
              "[5 rows x 9 columns]"
            ]
          },
          "metadata": {
            "tags": []
          },
          "execution_count": 85
        }
      ]
    }
  ]
}